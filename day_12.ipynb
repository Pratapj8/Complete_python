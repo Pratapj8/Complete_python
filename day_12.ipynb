{
 "cells": [
  {
   "cell_type": "markdown",
   "id": "ff74a46c",
   "metadata": {},
   "source": [
    "## Tutorial 13- Python Pandas Working With XML Tutorials- Part 5"
   ]
  },
  {
   "cell_type": "markdown",
   "id": "7f31c63a",
   "metadata": {},
   "source": [
    "1. Read XML and get Dataframe\n",
    "2. Convert Dataframe to XML"
   ]
  },
  {
   "cell_type": "markdown",
   "id": "cf089045",
   "metadata": {},
   "source": [
    "What is XML?\n",
    "1. XML stands for eXtensible Markup Language\n",
    "2. XML is a markup language much like HTML\n",
    "3. XML was designed to store and transport data\n",
    "4. XML was designed to be self-descriptive\n",
    "5. XML is a W3C Recommendation"
   ]
  },
  {
   "cell_type": "code",
   "execution_count": 2,
   "id": "2c6074b8",
   "metadata": {},
   "outputs": [
    {
     "data": {
      "text/html": [
       "<div>\n",
       "<style scoped>\n",
       "    .dataframe tbody tr th:only-of-type {\n",
       "        vertical-align: middle;\n",
       "    }\n",
       "\n",
       "    .dataframe tbody tr th {\n",
       "        vertical-align: top;\n",
       "    }\n",
       "\n",
       "    .dataframe thead th {\n",
       "        text-align: right;\n",
       "    }\n",
       "</style>\n",
       "<table border=\"1\" class=\"dataframe\">\n",
       "  <thead>\n",
       "    <tr style=\"text-align: right;\">\n",
       "      <th></th>\n",
       "      <th>shape</th>\n",
       "      <th>degrees</th>\n",
       "      <th>sides</th>\n",
       "    </tr>\n",
       "  </thead>\n",
       "  <tbody>\n",
       "    <tr>\n",
       "      <th>0</th>\n",
       "      <td>square</td>\n",
       "      <td>360</td>\n",
       "      <td>4.0</td>\n",
       "    </tr>\n",
       "    <tr>\n",
       "      <th>1</th>\n",
       "      <td>circle</td>\n",
       "      <td>360</td>\n",
       "      <td>NaN</td>\n",
       "    </tr>\n",
       "    <tr>\n",
       "      <th>2</th>\n",
       "      <td>triangle</td>\n",
       "      <td>180</td>\n",
       "      <td>3.0</td>\n",
       "    </tr>\n",
       "  </tbody>\n",
       "</table>\n",
       "</div>"
      ],
      "text/plain": [
       "      shape  degrees  sides\n",
       "0    square      360    4.0\n",
       "1    circle      360    NaN\n",
       "2  triangle      180    3.0"
      ]
     },
     "execution_count": 2,
     "metadata": {},
     "output_type": "execute_result"
    }
   ],
   "source": [
    "import pandas as pd\n",
    "\n",
    "pd.read_xml('/Users/apple/Downloads/Data_science_file/Krish_naik_Files_notes/python_hindi/test.xml')"
   ]
  },
  {
   "cell_type": "code",
   "execution_count": 9,
   "id": "995bd717",
   "metadata": {},
   "outputs": [],
   "source": [
    "xml = '''<?xml version='1.0' encoding='utf-8'?>\n",
    "<data xmlns=\"http://example.com\">\n",
    "    <row>\n",
    "    <shape>square</shape>\n",
    "    <degrees>360</degrees>\n",
    "    <sides>4.0</sides>\n",
    "    </row>\n",
    "    <row>\n",
    "    <shape>circle</shape>\n",
    "    <degrees>360</degrees>\n",
    "    <sides/>\n",
    "    </row>\n",
    "    <row>\n",
    "    <shape>triangle</shape>\n",
    "    <degrees>180</degrees>\n",
    "    <sides>3.0</sides>\n",
    "    </row>\n",
    "    </data>'''\n"
   ]
  },
  {
   "cell_type": "code",
   "execution_count": 13,
   "id": "dd05ce1f",
   "metadata": {},
   "outputs": [
    {
     "name": "stderr",
     "output_type": "stream",
     "text": [
      "/var/folders/zw/nj3v56n1045bx7d8tm1w5zk80000gn/T/ipykernel_43516/2704978085.py:1: FutureWarning: Passing literal xml to 'read_xml' is deprecated and will be removed in a future version. To read from a literal string, wrap it in a 'StringIO' object.\n",
      "  pd.read_xml(xml)\n"
     ]
    },
    {
     "data": {
      "text/html": [
       "<div>\n",
       "<style scoped>\n",
       "    .dataframe tbody tr th:only-of-type {\n",
       "        vertical-align: middle;\n",
       "    }\n",
       "\n",
       "    .dataframe tbody tr th {\n",
       "        vertical-align: top;\n",
       "    }\n",
       "\n",
       "    .dataframe thead th {\n",
       "        text-align: right;\n",
       "    }\n",
       "</style>\n",
       "<table border=\"1\" class=\"dataframe\">\n",
       "  <thead>\n",
       "    <tr style=\"text-align: right;\">\n",
       "      <th></th>\n",
       "      <th>shape</th>\n",
       "      <th>degrees</th>\n",
       "      <th>sides</th>\n",
       "    </tr>\n",
       "  </thead>\n",
       "  <tbody>\n",
       "    <tr>\n",
       "      <th>0</th>\n",
       "      <td>square</td>\n",
       "      <td>360</td>\n",
       "      <td>4.0</td>\n",
       "    </tr>\n",
       "    <tr>\n",
       "      <th>1</th>\n",
       "      <td>circle</td>\n",
       "      <td>360</td>\n",
       "      <td>NaN</td>\n",
       "    </tr>\n",
       "    <tr>\n",
       "      <th>2</th>\n",
       "      <td>triangle</td>\n",
       "      <td>180</td>\n",
       "      <td>3.0</td>\n",
       "    </tr>\n",
       "  </tbody>\n",
       "</table>\n",
       "</div>"
      ],
      "text/plain": [
       "      shape  degrees  sides\n",
       "0    square      360    4.0\n",
       "1    circle      360    NaN\n",
       "2  triangle      180    3.0"
      ]
     },
     "execution_count": 13,
     "metadata": {},
     "output_type": "execute_result"
    }
   ],
   "source": [
    "pd.read_xml(xml)"
   ]
  },
  {
   "cell_type": "code",
   "execution_count": 14,
   "id": "64cce89c",
   "metadata": {},
   "outputs": [],
   "source": [
    "xml = '''<?xml version='1.0' encoding='utf-8'?>\n",
    "<data xmlns=\"http://example.com\">\n",
    " <row>\n",
    "   <shape>square</shape>\n",
    "   <degrees>360</degrees>\n",
    "   <sides>4.0</sides>\n",
    "   <firstname>Pratap</firstname>\n",
    " </row>\n",
    " <row>\n",
    "   <shape>circle</shape>\n",
    "   <degrees>360</degrees>\n",
    "   <sides/>\n",
    "   <firstname/>\n",
    " </row>\n",
    " <row>\n",
    "   <shape>triangle</shape>\n",
    "   <degrees>180</degrees>\n",
    "   <sides>3.0</sides>\n",
    "   <firstname/>\n",
    " </row>\n",
    "</data>'''"
   ]
  },
  {
   "cell_type": "code",
   "execution_count": 15,
   "id": "4ba2d6ce",
   "metadata": {},
   "outputs": [
    {
     "name": "stderr",
     "output_type": "stream",
     "text": [
      "/var/folders/zw/nj3v56n1045bx7d8tm1w5zk80000gn/T/ipykernel_43516/2704978085.py:1: FutureWarning: Passing literal xml to 'read_xml' is deprecated and will be removed in a future version. To read from a literal string, wrap it in a 'StringIO' object.\n",
      "  pd.read_xml(xml)\n"
     ]
    },
    {
     "data": {
      "text/html": [
       "<div>\n",
       "<style scoped>\n",
       "    .dataframe tbody tr th:only-of-type {\n",
       "        vertical-align: middle;\n",
       "    }\n",
       "\n",
       "    .dataframe tbody tr th {\n",
       "        vertical-align: top;\n",
       "    }\n",
       "\n",
       "    .dataframe thead th {\n",
       "        text-align: right;\n",
       "    }\n",
       "</style>\n",
       "<table border=\"1\" class=\"dataframe\">\n",
       "  <thead>\n",
       "    <tr style=\"text-align: right;\">\n",
       "      <th></th>\n",
       "      <th>shape</th>\n",
       "      <th>degrees</th>\n",
       "      <th>sides</th>\n",
       "      <th>firstname</th>\n",
       "    </tr>\n",
       "  </thead>\n",
       "  <tbody>\n",
       "    <tr>\n",
       "      <th>0</th>\n",
       "      <td>square</td>\n",
       "      <td>360</td>\n",
       "      <td>4.0</td>\n",
       "      <td>Pratap</td>\n",
       "    </tr>\n",
       "    <tr>\n",
       "      <th>1</th>\n",
       "      <td>circle</td>\n",
       "      <td>360</td>\n",
       "      <td>NaN</td>\n",
       "      <td>None</td>\n",
       "    </tr>\n",
       "    <tr>\n",
       "      <th>2</th>\n",
       "      <td>triangle</td>\n",
       "      <td>180</td>\n",
       "      <td>3.0</td>\n",
       "      <td>None</td>\n",
       "    </tr>\n",
       "  </tbody>\n",
       "</table>\n",
       "</div>"
      ],
      "text/plain": [
       "      shape  degrees  sides firstname\n",
       "0    square      360    4.0    Pratap\n",
       "1    circle      360    NaN      None\n",
       "2  triangle      180    3.0      None"
      ]
     },
     "execution_count": 15,
     "metadata": {},
     "output_type": "execute_result"
    }
   ],
   "source": [
    "pd.read_xml(xml)"
   ]
  },
  {
   "cell_type": "code",
   "execution_count": 18,
   "id": "e39db05f",
   "metadata": {},
   "outputs": [],
   "source": [
    "xml = '''<?xml version='1.0' encoding='utf-8'?>\n",
    "<data>\n",
    "  <row shape=\"square\" degrees=\"360\" sides=\"4.0\" firstname=\"Mera\"/>\n",
    "  <row shape=\"circle\" degrees=\"360\"/>\n",
    "  <row shape=\"triangle\" degrees=\"180\" sides=\"3.0\" lastname=\"Baba\"/>\n",
    "</data>'''"
   ]
  },
  {
   "cell_type": "code",
   "execution_count": 19,
   "id": "d79da2e3",
   "metadata": {},
   "outputs": [
    {
     "name": "stderr",
     "output_type": "stream",
     "text": [
      "/var/folders/zw/nj3v56n1045bx7d8tm1w5zk80000gn/T/ipykernel_43516/2704978085.py:1: FutureWarning: Passing literal xml to 'read_xml' is deprecated and will be removed in a future version. To read from a literal string, wrap it in a 'StringIO' object.\n",
      "  pd.read_xml(xml)\n"
     ]
    },
    {
     "data": {
      "text/html": [
       "<div>\n",
       "<style scoped>\n",
       "    .dataframe tbody tr th:only-of-type {\n",
       "        vertical-align: middle;\n",
       "    }\n",
       "\n",
       "    .dataframe tbody tr th {\n",
       "        vertical-align: top;\n",
       "    }\n",
       "\n",
       "    .dataframe thead th {\n",
       "        text-align: right;\n",
       "    }\n",
       "</style>\n",
       "<table border=\"1\" class=\"dataframe\">\n",
       "  <thead>\n",
       "    <tr style=\"text-align: right;\">\n",
       "      <th></th>\n",
       "      <th>shape</th>\n",
       "      <th>degrees</th>\n",
       "      <th>sides</th>\n",
       "      <th>firstname</th>\n",
       "      <th>lastname</th>\n",
       "    </tr>\n",
       "  </thead>\n",
       "  <tbody>\n",
       "    <tr>\n",
       "      <th>0</th>\n",
       "      <td>square</td>\n",
       "      <td>360</td>\n",
       "      <td>4.0</td>\n",
       "      <td>Mera</td>\n",
       "      <td>None</td>\n",
       "    </tr>\n",
       "    <tr>\n",
       "      <th>1</th>\n",
       "      <td>circle</td>\n",
       "      <td>360</td>\n",
       "      <td>NaN</td>\n",
       "      <td>None</td>\n",
       "      <td>None</td>\n",
       "    </tr>\n",
       "    <tr>\n",
       "      <th>2</th>\n",
       "      <td>triangle</td>\n",
       "      <td>180</td>\n",
       "      <td>3.0</td>\n",
       "      <td>None</td>\n",
       "      <td>Baba</td>\n",
       "    </tr>\n",
       "  </tbody>\n",
       "</table>\n",
       "</div>"
      ],
      "text/plain": [
       "      shape  degrees  sides firstname lastname\n",
       "0    square      360    4.0      Mera     None\n",
       "1    circle      360    NaN      None     None\n",
       "2  triangle      180    3.0      None     Baba"
      ]
     },
     "execution_count": 19,
     "metadata": {},
     "output_type": "execute_result"
    }
   ],
   "source": [
    "pd.read_xml(xml)"
   ]
  },
  {
   "cell_type": "code",
   "execution_count": 20,
   "id": "b7e992b8",
   "metadata": {},
   "outputs": [
    {
     "name": "stderr",
     "output_type": "stream",
     "text": [
      "/var/folders/zw/nj3v56n1045bx7d8tm1w5zk80000gn/T/ipykernel_43516/1559276434.py:2: FutureWarning: Passing literal xml to 'read_xml' is deprecated and will be removed in a future version. To read from a literal string, wrap it in a 'StringIO' object.\n",
      "  pd.read_xml(xml,xpath=\".//row\")\n"
     ]
    },
    {
     "data": {
      "text/html": [
       "<div>\n",
       "<style scoped>\n",
       "    .dataframe tbody tr th:only-of-type {\n",
       "        vertical-align: middle;\n",
       "    }\n",
       "\n",
       "    .dataframe tbody tr th {\n",
       "        vertical-align: top;\n",
       "    }\n",
       "\n",
       "    .dataframe thead th {\n",
       "        text-align: right;\n",
       "    }\n",
       "</style>\n",
       "<table border=\"1\" class=\"dataframe\">\n",
       "  <thead>\n",
       "    <tr style=\"text-align: right;\">\n",
       "      <th></th>\n",
       "      <th>shape</th>\n",
       "      <th>degrees</th>\n",
       "      <th>sides</th>\n",
       "      <th>firstname</th>\n",
       "      <th>lastname</th>\n",
       "    </tr>\n",
       "  </thead>\n",
       "  <tbody>\n",
       "    <tr>\n",
       "      <th>0</th>\n",
       "      <td>square</td>\n",
       "      <td>360</td>\n",
       "      <td>4.0</td>\n",
       "      <td>Mera</td>\n",
       "      <td>None</td>\n",
       "    </tr>\n",
       "    <tr>\n",
       "      <th>1</th>\n",
       "      <td>circle</td>\n",
       "      <td>360</td>\n",
       "      <td>NaN</td>\n",
       "      <td>None</td>\n",
       "      <td>None</td>\n",
       "    </tr>\n",
       "    <tr>\n",
       "      <th>2</th>\n",
       "      <td>triangle</td>\n",
       "      <td>180</td>\n",
       "      <td>3.0</td>\n",
       "      <td>None</td>\n",
       "      <td>Baba</td>\n",
       "    </tr>\n",
       "  </tbody>\n",
       "</table>\n",
       "</div>"
      ],
      "text/plain": [
       "      shape  degrees  sides firstname lastname\n",
       "0    square      360    4.0      Mera     None\n",
       "1    circle      360    NaN      None     None\n",
       "2  triangle      180    3.0      None     Baba"
      ]
     },
     "execution_count": 20,
     "metadata": {},
     "output_type": "execute_result"
    }
   ],
   "source": [
    "# row tag\n",
    "pd.read_xml(xml,xpath=\".//row\")"
   ]
  },
  {
   "cell_type": "code",
   "execution_count": null,
   "id": "b23a8232",
   "metadata": {},
   "outputs": [],
   "source": []
  },
  {
   "cell_type": "code",
   "execution_count": 21,
   "id": "6ae0202b",
   "metadata": {},
   "outputs": [],
   "source": [
    "xml = '''<?xml version='1.0' encoding='utf-8'?>\n",
    "<doc:data xmlns:doc=\"https://example.com\">\n",
    "  <doc:row>\n",
    "    <doc:shape>square</doc:shape>\n",
    "    <doc:degrees>360</doc:degrees>\n",
    "    <doc:sides>4.0</doc:sides>\n",
    "  </doc:row>\n",
    "  <doc:row>\n",
    "    <doc:shape>circle</doc:shape>\n",
    "    <doc:degrees>360</doc:degrees>\n",
    "    <doc:sides/>\n",
    "  </doc:row>\n",
    "  <doc:row>\n",
    "    <doc:shape>triangle</doc:shape>\n",
    "    <doc:degrees>180</doc:degrees>\n",
    "    <doc:sides>3.0</doc:sides>\n",
    "  </doc:row>\n",
    "</doc:data>'''"
   ]
  },
  {
   "cell_type": "code",
   "execution_count": 22,
   "id": "e75bfbbf",
   "metadata": {},
   "outputs": [
    {
     "name": "stderr",
     "output_type": "stream",
     "text": [
      "/var/folders/zw/nj3v56n1045bx7d8tm1w5zk80000gn/T/ipykernel_43516/141621663.py:1: FutureWarning: Passing literal xml to 'read_xml' is deprecated and will be removed in a future version. To read from a literal string, wrap it in a 'StringIO' object.\n",
      "  pd.read_xml(xml,xpath=\".//doc:row\",namespaces={\"doc\": \"https://example.com\"})\n"
     ]
    },
    {
     "data": {
      "text/html": [
       "<div>\n",
       "<style scoped>\n",
       "    .dataframe tbody tr th:only-of-type {\n",
       "        vertical-align: middle;\n",
       "    }\n",
       "\n",
       "    .dataframe tbody tr th {\n",
       "        vertical-align: top;\n",
       "    }\n",
       "\n",
       "    .dataframe thead th {\n",
       "        text-align: right;\n",
       "    }\n",
       "</style>\n",
       "<table border=\"1\" class=\"dataframe\">\n",
       "  <thead>\n",
       "    <tr style=\"text-align: right;\">\n",
       "      <th></th>\n",
       "      <th>shape</th>\n",
       "      <th>degrees</th>\n",
       "      <th>sides</th>\n",
       "    </tr>\n",
       "  </thead>\n",
       "  <tbody>\n",
       "    <tr>\n",
       "      <th>0</th>\n",
       "      <td>square</td>\n",
       "      <td>360</td>\n",
       "      <td>4.0</td>\n",
       "    </tr>\n",
       "    <tr>\n",
       "      <th>1</th>\n",
       "      <td>circle</td>\n",
       "      <td>360</td>\n",
       "      <td>NaN</td>\n",
       "    </tr>\n",
       "    <tr>\n",
       "      <th>2</th>\n",
       "      <td>triangle</td>\n",
       "      <td>180</td>\n",
       "      <td>3.0</td>\n",
       "    </tr>\n",
       "  </tbody>\n",
       "</table>\n",
       "</div>"
      ],
      "text/plain": [
       "      shape  degrees  sides\n",
       "0    square      360    4.0\n",
       "1    circle      360    NaN\n",
       "2  triangle      180    3.0"
      ]
     },
     "execution_count": 22,
     "metadata": {},
     "output_type": "execute_result"
    }
   ],
   "source": [
    "pd.read_xml(xml,xpath=\".//doc:row\",namespaces={\"doc\": \"https://example.com\"})\n"
   ]
  },
  {
   "cell_type": "code",
   "execution_count": 23,
   "id": "73737af2",
   "metadata": {},
   "outputs": [
    {
     "name": "stderr",
     "output_type": "stream",
     "text": [
      "/var/folders/zw/nj3v56n1045bx7d8tm1w5zk80000gn/T/ipykernel_43516/1158890429.py:1: FutureWarning: Passing literal xml to 'read_xml' is deprecated and will be removed in a future version. To read from a literal string, wrap it in a 'StringIO' object.\n",
      "  df = pd.read_xml(xml,xpath=\".//doc:row\",namespaces={\"doc\": \"https://example.com\"})\n"
     ]
    }
   ],
   "source": [
    "df = pd.read_xml(xml,xpath=\".//doc:row\",namespaces={\"doc\": \"https://example.com\"})"
   ]
  },
  {
   "cell_type": "code",
   "execution_count": null,
   "id": "fe76a5e2",
   "metadata": {},
   "outputs": [],
   "source": [
    "# save to xml\n",
    "#df.to_xml(\"test2.xml\")"
   ]
  },
  {
   "cell_type": "code",
   "execution_count": null,
   "id": "d7649aaa",
   "metadata": {},
   "outputs": [],
   "source": []
  },
  {
   "cell_type": "code",
   "execution_count": null,
   "id": "07969c71",
   "metadata": {},
   "outputs": [],
   "source": []
  },
  {
   "cell_type": "code",
   "execution_count": null,
   "id": "09bd3cfa",
   "metadata": {},
   "outputs": [],
   "source": []
  },
  {
   "cell_type": "code",
   "execution_count": null,
   "id": "38559ecd",
   "metadata": {},
   "outputs": [],
   "source": []
  },
  {
   "cell_type": "code",
   "execution_count": null,
   "id": "fd095cc0",
   "metadata": {},
   "outputs": [],
   "source": []
  },
  {
   "cell_type": "code",
   "execution_count": null,
   "id": "faa58f65",
   "metadata": {},
   "outputs": [],
   "source": []
  },
  {
   "cell_type": "code",
   "execution_count": null,
   "id": "069f02db",
   "metadata": {},
   "outputs": [],
   "source": []
  },
  {
   "cell_type": "code",
   "execution_count": null,
   "id": "0936c1ad",
   "metadata": {},
   "outputs": [],
   "source": []
  },
  {
   "cell_type": "code",
   "execution_count": null,
   "id": "d4321122",
   "metadata": {},
   "outputs": [],
   "source": []
  },
  {
   "cell_type": "code",
   "execution_count": null,
   "id": "314c20c9",
   "metadata": {},
   "outputs": [],
   "source": []
  },
  {
   "cell_type": "code",
   "execution_count": null,
   "id": "325ca59b",
   "metadata": {},
   "outputs": [],
   "source": []
  }
 ],
 "metadata": {
  "kernelspec": {
   "display_name": ".venv (3.13.7)",
   "language": "python",
   "name": "python3"
  },
  "language_info": {
   "codemirror_mode": {
    "name": "ipython",
    "version": 3
   },
   "file_extension": ".py",
   "mimetype": "text/x-python",
   "name": "python",
   "nbconvert_exporter": "python",
   "pygments_lexer": "ipython3",
   "version": "3.13.7"
  }
 },
 "nbformat": 4,
 "nbformat_minor": 5
}
