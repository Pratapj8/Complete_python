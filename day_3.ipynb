{
 "cells": [
  {
   "cell_type": "markdown",
   "id": "8ee09f42",
   "metadata": {},
   "source": [
    "## Python Control Flow"
   ]
  },
  {
   "cell_type": "code",
   "execution_count": 1,
   "id": "5d1b2c0a",
   "metadata": {},
   "outputs": [
    {
     "name": "stdout",
     "output_type": "stream",
     "text": [
      "20.0\n",
      "<class 'float'>\n"
     ]
    }
   ],
   "source": [
    "# If statement\n",
    "val = input(\"Enter the whole number/Integer value: \")\n",
    "\n",
    "value_float = float(val) # Type casting to float\n",
    "print(value_float)\n",
    "print(type(value_float))"
   ]
  },
  {
   "cell_type": "code",
   "execution_count": 6,
   "id": "20912b84",
   "metadata": {},
   "outputs": [
    {
     "name": "stdout",
     "output_type": "stream",
     "text": [
      "The number 100.4 is greater than > 100\n"
     ]
    }
   ],
   "source": [
    "val = input(\"Enter the whole number \")\n",
    "\n",
    "value_float = float(val) # Type casting to float\n",
    "\n",
    "if(value_float>100):\n",
    "    print(\"The number {} is greater than > 100\".format(value_float))\n",
    "else:\n",
    "    print(\"The number {} is less than < 100\".format(value_float))"
   ]
  },
  {
   "cell_type": "code",
   "execution_count": 7,
   "id": "5f681264",
   "metadata": {},
   "outputs": [
    {
     "data": {
      "text/plain": [
       "0"
      ]
     },
     "execution_count": 7,
     "metadata": {},
     "output_type": "execute_result"
    }
   ],
   "source": [
    "10%2 # 10 is even number"
   ]
  },
  {
   "cell_type": "code",
   "execution_count": 8,
   "id": "7dbcc2d3",
   "metadata": {},
   "outputs": [
    {
     "data": {
      "text/plain": [
       "False"
      ]
     },
     "execution_count": 8,
     "metadata": {},
     "output_type": "execute_result"
    }
   ],
   "source": [
    "10%2!=0 # 10 is not odd number"
   ]
  },
  {
   "cell_type": "code",
   "execution_count": 9,
   "id": "8b742703",
   "metadata": {},
   "outputs": [
    {
     "name": "stdout",
     "output_type": "stream",
     "text": [
      "The number is odd =  5\n"
     ]
    }
   ],
   "source": [
    "val = input(\"Enter the number \")\n",
    "\n",
    "value_float = int(val) # Type casting to integer\n",
    "\n",
    "if(value_float%2==0):\n",
    "    print(\"The number is even = \", value_float)\n",
    "else:\n",
    "    print(\"The number is odd = \", value_float)"
   ]
  },
  {
   "cell_type": "code",
   "execution_count": null,
   "id": "a9a7c2c7",
   "metadata": {},
   "outputs": [
    {
     "name": "stdout",
     "output_type": "stream",
     "text": [
      "6 = Hours, You can study 8 hrs to become a bad Boy\n"
     ]
    }
   ],
   "source": [
    "study_hr = int(input(\"Enter your study hours\"))\n",
    "\n",
    "study_count = int(study_hr)\n",
    "\n",
    "if(study_count>7):\n",
    "    print(study_count,\"= Hours, You are a Great student\")\n",
    "else:\n",
    "    print(study_count,\"= Hours, You can study 8+ hrs to become a bad Boy\")"
   ]
  },
  {
   "cell_type": "code",
   "execution_count": 13,
   "id": "951d480c",
   "metadata": {},
   "outputs": [
    {
     "name": "stdout",
     "output_type": "stream",
     "text": [
      "You are a Smart kid\n"
     ]
    }
   ],
   "source": [
    "# Age form\n",
    "\n",
    "age = float(input(\"Enter your age\"))\n",
    "\n",
    "if(age<18):\n",
    "    print(\"You are a Smart kid\")\n",
    "elif(age==18):\n",
    "    print(\"You are a Smart kid and adult\")\n",
    "else:\n",
    "    print(\"You are a Smart adult\")"
   ]
  },
  {
   "cell_type": "code",
   "execution_count": 14,
   "id": "35638fd7",
   "metadata": {},
   "outputs": [
    {
     "name": "stdout",
     "output_type": "stream",
     "text": [
      "You are a Millinare\n"
     ]
    }
   ],
   "source": [
    "# Check if you are a Millinare\n",
    "\n",
    "bank_balance = int(input(\"Enter your Bank Balance in Rupees = \"))\n",
    "\n",
    "if(bank_balance>=1000000):\n",
    "    print(\"You are a Millinare\")\n",
    "elif(bank_balance<1000000 and bank_balance>=100000):\n",
    "    print(\"You are a Lakhpati\")\n",
    "else:\n",
    "    print(\"You have the power to become Millinare\")"
   ]
  },
  {
   "cell_type": "code",
   "execution_count": 17,
   "id": "6007ccce",
   "metadata": {},
   "outputs": [
    {
     "name": "stdout",
     "output_type": "stream",
     "text": [
      "Minor Age\n",
      "You are in College, Earth is College\n"
     ]
    }
   ],
   "source": [
    "# Nested if else\n",
    "\n",
    "age = float(input(\"Enter the age\"))\n",
    "\n",
    "if(age<18):\n",
    "    print(\"Minor Age\")\n",
    "    if(age<15):\n",
    "        print(\"You are in School, Earth is Scool\")\n",
    "    else:\n",
    "        print(\"You are in College, Earth is College\")\n",
    "elif(age>=18 and age<=45):\n",
    "    print(\"Mid Age\")\n",
    "elif(age>45 and age<=50):\n",
    "    print(\"Senior Mid Age\")\n",
    "else:\n",
    "    print(\"Senior Citizen\")"
   ]
  },
  {
   "cell_type": "code",
   "execution_count": null,
   "id": "20eab5db",
   "metadata": {},
   "outputs": [
    {
     "name": "stdout",
     "output_type": "stream",
     "text": [
      "1\n",
      "2\n",
      "3\n",
      "4\n",
      "5\n",
      "6\n",
      "7\n",
      "8\n",
      "9\n",
      "10\n"
     ]
    }
   ],
   "source": [
    "## Loops statements\n",
    "## for loop , while loop\n",
    "\n",
    "lst = [1,2,3,4,5,6,7,8,9,10]\n",
    "\n",
    "for i in lst:\n",
    "    print(i) # Prints all the values in the list"
   ]
  },
  {
   "cell_type": "code",
   "execution_count": null,
   "id": "d710c55e",
   "metadata": {},
   "outputs": [
    {
     "name": "stdout",
     "output_type": "stream",
     "text": [
      "1\n",
      "2\n",
      "3\n",
      "4\n",
      "5\n",
      "6\n",
      "7\n",
      "7\n",
      "8\n",
      "9\n",
      "10\n",
      "11\n",
      "12\n"
     ]
    }
   ],
   "source": [
    "# Sort the list and print\n",
    "lst = [1,10,2,4,3,7,9,8,5,7,6]\n",
    "lst.sort() # Sorts the list in ascending order\n",
    "\n",
    "for i in lst:\n",
    "    print(i) # Prints all the values in the list"
   ]
  },
  {
   "cell_type": "code",
   "execution_count": 27,
   "id": "b80977ed",
   "metadata": {},
   "outputs": [
    {
     "name": "stdout",
     "output_type": "stream",
     "text": [
      "1\n",
      "4\n",
      "9\n",
      "16\n",
      "25\n",
      "36\n",
      "49\n",
      "64\n",
      "81\n",
      "100\n"
     ]
    }
   ],
   "source": [
    "lst = [1,2,3,4,5,6,7,8,9,10]\n",
    "\n",
    "for i in lst:\n",
    "    print(i**2)"
   ]
  },
  {
   "cell_type": "code",
   "execution_count": null,
   "id": "6bb5e549",
   "metadata": {},
   "outputs": [
    {
     "name": "stdout",
     "output_type": "stream",
     "text": [
      "4\n",
      "16\n",
      "36\n",
      "64\n",
      "100\n",
      "144\n",
      "196\n",
      "256\n",
      "324\n",
      "400\n"
     ]
    }
   ],
   "source": [
    "# Print the square of even numbers from the list\n",
    "lst = [2,4,6,8,10,12,14,16,18,20] # 2x2,4x4,6x6\n",
    "\n",
    "for i in lst:\n",
    "    print(i**2)"
   ]
  },
  {
   "cell_type": "code",
   "execution_count": null,
   "id": "f159c803",
   "metadata": {},
   "outputs": [
    {
     "name": "stdout",
     "output_type": "stream",
     "text": [
      "The sum of all the elements in the list is =  30\n"
     ]
    }
   ],
   "source": [
    "##  find the sum of all the elements of a list\n",
    "\n",
    "lst = [5,5,5,5,5,5] # 5+5+5+5+5+5\n",
    "sum = 0 # Initialize sum variable to 0\n",
    "for i in lst:\n",
    "    sum = sum + i # Incremental sum \n",
    "    \n",
    "print(\"The sum of all the elements in the list is = \", sum)"
   ]
  },
  {
   "cell_type": "code",
   "execution_count": 22,
   "id": "ad84ccd6",
   "metadata": {},
   "outputs": [
    {
     "name": "stdout",
     "output_type": "stream",
     "text": [
      "The sum of all the elements in the list is =  30\n"
     ]
    }
   ],
   "source": [
    "##  find the sum of all the elements of a list\n",
    "\n",
    "lst = [10,10,10]\n",
    "sum = 0\n",
    "for i in lst:\n",
    "    sum = sum + i\n",
    "    \n",
    "print(\"The sum of all the elements in the list is = \", sum)"
   ]
  },
  {
   "cell_type": "code",
   "execution_count": null,
   "id": "f3eac65c",
   "metadata": {},
   "outputs": [
    {
     "name": "stdout",
     "output_type": "stream",
     "text": [
      "Even sum is 12\n",
      "Odd sum is 16\n",
      "[1, 2, 3, 4, 5, 6, 7]\n"
     ]
    }
   ],
   "source": [
    "# find the sum of even and odd numbers in a list\n",
    "\n",
    "lst = [1,2,3,4,5,6,7] # 1+3+5+7=16 , 2+4+6=12\n",
    "even_sum = 0 # Initialize even sum variable to 0\n",
    "odd_sum = 0 # Initialize odd sum variable to 0\n",
    "\n",
    "for i in lst:\n",
    "    if(i%2==0): # Check if the number is even\n",
    "        even_sum = even_sum + i # even sum increment\n",
    "    else:\n",
    "        odd_sum = odd_sum + i # odd sum increment\n",
    "\n",
    "print(\"Even sum is {}\".format(even_sum))\n",
    "print(\"Odd sum is {}\".format(odd_sum))\n",
    "\n",
    "print(lst)"
   ]
  },
  {
   "cell_type": "code",
   "execution_count": 24,
   "id": "148863a4",
   "metadata": {},
   "outputs": [
    {
     "name": "stdout",
     "output_type": "stream",
     "text": [
      "Even numbers are:  [2, 4, 6]\n",
      "Odd numbers are:  [1, 3, 5, 7]\n"
     ]
    }
   ],
   "source": [
    "# Save even and odd separately in two different lists\n",
    "lst = [1,2,3,4,5,6,7]\n",
    "even_list = [] # Empty list to store even numbers\n",
    "odd_list = [] # Empty list to store odd numbers\n",
    "\n",
    "for i in lst:\n",
    "    if(i%2==0):\n",
    "        even_list.append(i) # Append even numbers to even_list\n",
    "    else:\n",
    "        odd_list.append(i) # Append odd numbers to odd_list\n",
    "\n",
    "print(\"Even numbers are: \", even_list)\n",
    "print(\"Odd numbers are: \", odd_list)"
   ]
  },
  {
   "cell_type": "code",
   "execution_count": 25,
   "id": "ad190cce",
   "metadata": {},
   "outputs": [
    {
     "name": "stdout",
     "output_type": "stream",
     "text": [
      "0\n",
      "1\n",
      "2\n",
      "3\n",
      "4\n",
      "5\n",
      "6\n",
      "7\n",
      "8\n",
      "9\n"
     ]
    }
   ],
   "source": [
    "## while condition\n",
    "# print number from 0 to 9\n",
    "\n",
    "i = 0\n",
    "while(i<10):\n",
    "    print(i)\n",
    "    i = i + 1\n"
   ]
  },
  {
   "cell_type": "code",
   "execution_count": 26,
   "id": "59dfdde4",
   "metadata": {},
   "outputs": [
    {
     "name": "stdout",
     "output_type": "stream",
     "text": [
      "Even sum is 20\n",
      "Odd sum is 25\n"
     ]
    }
   ],
   "source": [
    "# find the sum of even and odd numbers from 0 to 9\n",
    "\n",
    "\n",
    "i = 0\n",
    "even_sum = 0\n",
    "odd_sum = 0\n",
    "\n",
    "while(i<10):\n",
    "    if(i%2==0):\n",
    "        even_sum = even_sum + i\n",
    "    else:\n",
    "        odd_sum = odd_sum + i\n",
    "    i = i + 1\n",
    "\n",
    "print(\"Even sum is {}\".format(even_sum))\n",
    "print(\"Odd sum is {}\".format(odd_sum))"
   ]
  },
  {
   "cell_type": "code",
   "execution_count": null,
   "id": "f3f71b7a",
   "metadata": {},
   "outputs": [
    {
     "name": "stdout",
     "output_type": "stream",
     "text": [
      "Your OTP is:  899872\n"
     ]
    }
   ],
   "source": [
    "# Multi-Factor Authentication code sent the otp to user mailid/phone number\n",
    "\n",
    "import random\n",
    "\n",
    "def generate_otp():\n",
    "    return random.randint(100000, 999999)\n",
    "otp = generate_otp()\n",
    "print(\"Your OTP is: \", otp)"
   ]
  },
  {
   "cell_type": "code",
   "execution_count": null,
   "id": "5241d15d",
   "metadata": {},
   "outputs": [],
   "source": []
  },
  {
   "cell_type": "code",
   "execution_count": 29,
   "id": "85c971a1",
   "metadata": {},
   "outputs": [
    {
     "name": "stdout",
     "output_type": "stream",
     "text": [
      "1\n",
      "2\n",
      "3\n",
      "4\n",
      "5\n"
     ]
    }
   ],
   "source": [
    "# Break if it is == 5\n",
    "\n",
    "x = 1\n",
    "# 1 to 10\n",
    "while(x<10):\n",
    "    print(x)\n",
    "    if(x==5):\n",
    "        break\n",
    "    x = x + 1"
   ]
  },
  {
   "cell_type": "code",
   "execution_count": 30,
   "id": "3a319cd8",
   "metadata": {},
   "outputs": [
    {
     "name": "stdout",
     "output_type": "stream",
     "text": [
      "Pizza\n",
      "Burger\n",
      "Pasta\n",
      "Noodles\n"
     ]
    }
   ],
   "source": [
    "# Break condition in food delivery\n",
    "\n",
    "food_list = [\"Pizza\",\"Burger\",\"Pasta\",\"Noodles\",\"Coke\",\"Pepsi\",\"Fries\"]\n",
    "for food in food_list:\n",
    "    if food == \"Coke\":\n",
    "        break\n",
    "    print(food)"
   ]
  },
  {
   "cell_type": "code",
   "execution_count": null,
   "id": "018e6137",
   "metadata": {},
   "outputs": [
    {
     "name": "stdout",
     "output_type": "stream",
     "text": [
      "1\n",
      "2\n",
      "3\n",
      "4\n",
      "6\n",
      "7\n",
      "8\n",
      "9\n",
      "10\n"
     ]
    }
   ],
   "source": [
    "# Continue , skip the value if it is 5\n",
    "\n",
    "x = 0 # start from 0\n",
    "while(x<10): # count till 9\n",
    "    x = x + 1 # increment by 1\n",
    "    if(x==5): # skip the value 5\n",
    "        continue\n",
    "    print(x)"
   ]
  },
  {
   "cell_type": "code",
   "execution_count": null,
   "id": "b58e73db",
   "metadata": {},
   "outputs": [
    {
     "name": "stdout",
     "output_type": "stream",
     "text": [
      "['Pizza', 'Burger', 'Pasta', 'Noodles', 'Coke', 'Pepsi', 'Fries', 'Salad', 'Fruits', 'Veggies']\n",
      "you have ordered :  coke but we have Healthy food option: Salad\n",
      "you have ordered :  coke but we have Healthy food option: Fruits\n",
      "you have ordered :  coke but we have Healthy food option: Veggies\n"
     ]
    }
   ],
   "source": [
    "# Continue condition for healhy food diet plan , where i have listed junk food items and healhy food items , if i get julk food loop should skip that food item\n",
    "\n",
    "food_list = [\"Pizza\",\"Burger\",\"Pasta\",\"Noodles\",\"Coke\",\"Pepsi\",\"Fries\",\"Salad\",\"Fruits\",\"Veggies\"]\n",
    "print(food_list)\n",
    "\n",
    "user_ordered = input(\"Enter the food item you ordered from the above list: \")\n",
    "\n",
    "for food in food_list:\n",
    "    if food in [\"Pizza\",\"Burger\",\"Pasta\",\"Noodles\",\"Coke\",\"Pepsi\",\"Fries\"]:\n",
    "        continue\n",
    "    print(\"You have ordered : \", user_ordered, \"but we have Healthy food option:\", food)\n",
    "    "
   ]
  },
  {
   "cell_type": "code",
   "execution_count": null,
   "id": "bfaee69d",
   "metadata": {},
   "outputs": [],
   "source": []
  },
  {
   "cell_type": "code",
   "execution_count": null,
   "id": "b6675cf4",
   "metadata": {},
   "outputs": [],
   "source": []
  },
  {
   "cell_type": "code",
   "execution_count": null,
   "id": "e6f923ce",
   "metadata": {},
   "outputs": [],
   "source": []
  }
 ],
 "metadata": {
  "kernelspec": {
   "display_name": ".venv (3.13.7)",
   "language": "python",
   "name": "python3"
  },
  "language_info": {
   "codemirror_mode": {
    "name": "ipython",
    "version": 3
   },
   "file_extension": ".py",
   "mimetype": "text/x-python",
   "name": "python",
   "nbconvert_exporter": "python",
   "pygments_lexer": "ipython3",
   "version": "3.13.7"
  }
 },
 "nbformat": 4,
 "nbformat_minor": 5
}
