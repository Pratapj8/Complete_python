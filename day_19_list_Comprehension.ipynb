{
 "cells": [
  {
   "cell_type": "markdown",
   "id": "65de2bc6",
   "metadata": {},
   "source": [
    "## Python List Comprehension"
   ]
  },
  {
   "cell_type": "code",
   "execution_count": 2,
   "id": "ed55013c",
   "metadata": {},
   "outputs": [
    {
     "data": {
      "text/plain": [
       "list"
      ]
     },
     "execution_count": 2,
     "metadata": {},
     "output_type": "execute_result"
    }
   ],
   "source": [
    "type([1,2,3,4,5,6])"
   ]
  },
  {
   "cell_type": "code",
   "execution_count": 3,
   "id": "3d40dfd4",
   "metadata": {},
   "outputs": [
    {
     "name": "stdout",
     "output_type": "stream",
     "text": [
      "[0, 1, 2, 3, 4, 5, 6, 7]\n"
     ]
    }
   ],
   "source": [
    "lst = []\n",
    "\n",
    "for i in range(0,8):\n",
    "    lst.append(i)\n",
    "    \n",
    "print(lst)"
   ]
  },
  {
   "cell_type": "code",
   "execution_count": null,
   "id": "2460124a",
   "metadata": {},
   "outputs": [
    {
     "name": "stdout",
     "output_type": "stream",
     "text": [
      "[3, 4, 5, 6, 7]\n"
     ]
    }
   ],
   "source": [
    "lst = [1,2,3,4,5]\n",
    "lst2 = []\n",
    "for i in lst:\n",
    "    lst2.append(i+2) # Adding 2 to each number\n",
    "    \n",
    "print(lst2)"
   ]
  },
  {
   "cell_type": "markdown",
   "id": "b39c451b",
   "metadata": {},
   "source": [
    "## Above function is long code but works the same so we use list comprehension (one line code)"
   ]
  },
  {
   "cell_type": "code",
   "execution_count": 5,
   "id": "e86cc460",
   "metadata": {},
   "outputs": [
    {
     "name": "stdout",
     "output_type": "stream",
     "text": [
      "[3, 4, 5, 6, 7]\n"
     ]
    }
   ],
   "source": [
    "num = [1,2,3,4,5]\n",
    "sum_num = [i+2 for i in num]\n",
    "print(sum_num)"
   ]
  },
  {
   "cell_type": "code",
   "execution_count": 8,
   "id": "da75b1bd",
   "metadata": {},
   "outputs": [
    {
     "name": "stdout",
     "output_type": "stream",
     "text": [
      "[15, 25, 35]\n"
     ]
    }
   ],
   "source": [
    "no = [10,20,30]\n",
    "sum_no = [i + 5 for i in no]\n",
    "print(sum_no)"
   ]
  },
  {
   "cell_type": "code",
   "execution_count": null,
   "id": "2604508e",
   "metadata": {},
   "outputs": [
    {
     "name": "stdout",
     "output_type": "stream",
     "text": [
      "[2, 4, 6, 8, 10, 12]\n"
     ]
    }
   ],
   "source": [
    "# Filtering even numbers from a list using if statement and for loop\n",
    "num = [1,2,3,4,5,6,7,8,9,10,11,12]\n",
    "even_num = [i for i in num if i%2==0]\n",
    "print(even_num)"
   ]
  },
  {
   "cell_type": "code",
   "execution_count": null,
   "id": "2e31edf1",
   "metadata": {},
   "outputs": [
    {
     "name": "stdout",
     "output_type": "stream",
     "text": [
      "[20]\n"
     ]
    }
   ],
   "source": [
    "num = [10,20,30,40]\n",
    "find_20 = [i for i in num if i==20] # Retrive only 20 \n",
    "print(find_20)"
   ]
  },
  {
   "cell_type": "code",
   "execution_count": 14,
   "id": "ea1c6034",
   "metadata": {},
   "outputs": [
    {
     "data": {
      "text/plain": [
       "[1, 2, 3, 4, 5, 6, 7, 8, 9]"
      ]
     },
     "execution_count": 14,
     "metadata": {},
     "output_type": "execute_result"
    }
   ],
   "source": [
    "# Flattening a list of list , sub-lists in one list\n",
    "\n",
    "lists = [[1,2,3],[4,5,6],[7,8,9]]\n",
    "complete_list  = [item for sublist in lists for item in sublist]\n",
    "complete_list"
   ]
  },
  {
   "cell_type": "code",
   "execution_count": 15,
   "id": "d28fe361",
   "metadata": {},
   "outputs": [
    {
     "data": {
      "text/plain": [
       "[1, 2, 3, 4, 5, 6, 7, 8, 9]"
      ]
     },
     "execution_count": 15,
     "metadata": {},
     "output_type": "execute_result"
    }
   ],
   "source": [
    "lists = [[1,2,3],[4,5,6],[7,8,9]]\n",
    "[i for sublist in lists for i in sublist]"
   ]
  },
  {
   "cell_type": "code",
   "execution_count": 19,
   "id": "1214d76f",
   "metadata": {},
   "outputs": [
    {
     "data": {
      "text/plain": [
       "['a', 'b', 'c', 'd']"
      ]
     },
     "execution_count": 19,
     "metadata": {},
     "output_type": "execute_result"
    }
   ],
   "source": [
    "# Generating a list of the first letters of words in a list:\n",
    "words = [\"apple\",\"banana\",\"cherry\",\"date\"]\n",
    "first_letters = [i[0] for i in words]\n",
    "first_letters"
   ]
  },
  {
   "cell_type": "code",
   "execution_count": null,
   "id": "4f040da0",
   "metadata": {},
   "outputs": [
    {
     "data": {
      "text/plain": [
       "[4, 6, 8, 10, 12]"
      ]
     },
     "execution_count": 22,
     "metadata": {},
     "output_type": "execute_result"
    }
   ],
   "source": [
    "## Generating a list of the plus + 2 of even numbers\n",
    "num = [1,2,3,4,5,6,7,8,9,10]\n",
    "[i+2 for i in num if i%2==0]"
   ]
  },
  {
   "cell_type": "code",
   "execution_count": 27,
   "id": "2693a048",
   "metadata": {},
   "outputs": [
    {
     "name": "stdout",
     "output_type": "stream",
     "text": [
      "[1, 2, 3, 4, 5]\n",
      "<class 'list'>\n"
     ]
    }
   ],
   "source": [
    "## Converting a list of strings to a list of integers\n",
    "strings = ['1','2','3','4','5']\n",
    "converted_str = [int(i) for i in strings]\n",
    "print(converted_str)\n",
    "print(type(converted_str))"
   ]
  },
  {
   "cell_type": "code",
   "execution_count": 28,
   "id": "1ae1243a",
   "metadata": {},
   "outputs": [
    {
     "data": {
      "text/plain": [
       "[1,\n",
       " 2,\n",
       " 3,\n",
       " 5,\n",
       " 8,\n",
       " 13,\n",
       " 21,\n",
       " 34,\n",
       " 55,\n",
       " 89,\n",
       " 144,\n",
       " 233,\n",
       " 377,\n",
       " 610,\n",
       " 987,\n",
       " 1597,\n",
       " 2584,\n",
       " 4181,\n",
       " 6765]"
      ]
     },
     "execution_count": 28,
     "metadata": {},
     "output_type": "execute_result"
    }
   ],
   "source": [
    "## Generating a list of the Fibonacci sequence using a list comprehension\n",
    "fib = [0, 1, 1, 2, 3, 5, 8, 13, 21, 34, 55, 89, 144, 233, 377, 610, 987, 1597, 2584, 4181, 6765]\n",
    "\n",
    "[fib[i-1]+ fib[i-2] for i in range(2,len(fib))]"
   ]
  },
  {
   "cell_type": "code",
   "execution_count": 29,
   "id": "ff3e36b3",
   "metadata": {},
   "outputs": [
    {
     "data": {
      "text/plain": [
       "[1, 2, 3, 4, 6, 9, 12, 18, 36]"
      ]
     },
     "execution_count": 29,
     "metadata": {},
     "output_type": "execute_result"
    }
   ],
   "source": [
    "##Generating a list of all the divisors of a number:\n",
    "\n",
    "number =36\n",
    "[i for i in range(1,number+1) if number%i==0]"
   ]
  },
  {
   "cell_type": "code",
   "execution_count": 30,
   "id": "7adc426d",
   "metadata": {},
   "outputs": [
    {
     "name": "stdout",
     "output_type": "stream",
     "text": [
      "[2, 3, 5, 7, 11, 13, 17, 19, 23, 29, 31, 37, 41, 43, 47]\n"
     ]
    }
   ],
   "source": [
    "## Generating a list of all the prime numbers less than a given number:\n",
    "n = 50  # you can change this to any number\n",
    "primes = [x for x in range(2, n) if all(x % y != 0 for y in range(2, int(x**0.5) + 1))]\n",
    "print(primes)"
   ]
  },
  {
   "cell_type": "markdown",
   "id": "f49b75a3",
   "metadata": {},
   "source": [
    "A **prime number** is a number greater than 1 that can only be divided **exactly** by 1 and itself.\n",
    "\n",
    "👉 Examples: **2, 3, 5, 7, 11**\n",
    "👉 Not prime: **4** (because 4 = 2 × 2), **6** (because 6 = 2 × 3).\n",
    "\n",
    "So, primes are like the **building blocks** of all other numbers. ✅\n",
    "\n",
    "1 is **not prime** because a prime number must have **exactly two divisors**: 1 and itself.\n",
    "\n",
    "But **1 has only one divisor (itself)** → so it doesn’t fit the definition. ✅"
   ]
  },
  {
   "cell_type": "code",
   "execution_count": null,
   "id": "ec7472f5",
   "metadata": {},
   "outputs": [],
   "source": []
  },
  {
   "cell_type": "code",
   "execution_count": null,
   "id": "577ec89c",
   "metadata": {},
   "outputs": [],
   "source": []
  },
  {
   "cell_type": "code",
   "execution_count": null,
   "id": "853621d8",
   "metadata": {},
   "outputs": [],
   "source": []
  },
  {
   "cell_type": "code",
   "execution_count": null,
   "id": "e4dd215b",
   "metadata": {},
   "outputs": [],
   "source": []
  },
  {
   "cell_type": "code",
   "execution_count": null,
   "id": "9e6b46c3",
   "metadata": {},
   "outputs": [],
   "source": []
  },
  {
   "cell_type": "code",
   "execution_count": null,
   "id": "2c611bc1",
   "metadata": {},
   "outputs": [],
   "source": []
  },
  {
   "cell_type": "code",
   "execution_count": null,
   "id": "b442f4d0",
   "metadata": {},
   "outputs": [],
   "source": []
  },
  {
   "cell_type": "code",
   "execution_count": null,
   "id": "1cbc3d0d",
   "metadata": {},
   "outputs": [],
   "source": []
  },
  {
   "cell_type": "code",
   "execution_count": null,
   "id": "cec9a492",
   "metadata": {},
   "outputs": [],
   "source": []
  },
  {
   "cell_type": "code",
   "execution_count": null,
   "id": "bb3fa834",
   "metadata": {},
   "outputs": [],
   "source": []
  },
  {
   "cell_type": "code",
   "execution_count": null,
   "id": "24a069ad",
   "metadata": {},
   "outputs": [],
   "source": []
  },
  {
   "cell_type": "code",
   "execution_count": null,
   "id": "294c0944",
   "metadata": {},
   "outputs": [],
   "source": []
  }
 ],
 "metadata": {
  "kernelspec": {
   "display_name": ".venv (3.13.7)",
   "language": "python",
   "name": "python3"
  },
  "language_info": {
   "codemirror_mode": {
    "name": "ipython",
    "version": 3
   },
   "file_extension": ".py",
   "mimetype": "text/x-python",
   "name": "python",
   "nbconvert_exporter": "python",
   "pygments_lexer": "ipython3",
   "version": "3.13.7"
  }
 },
 "nbformat": 4,
 "nbformat_minor": 5
}
