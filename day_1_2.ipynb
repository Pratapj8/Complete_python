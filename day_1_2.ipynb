{
 "cells": [
  {
   "cell_type": "code",
   "execution_count": 1,
   "id": "ee0c358e",
   "metadata": {},
   "outputs": [
    {
     "data": {
      "text/plain": [
       "3"
      ]
     },
     "execution_count": 1,
     "metadata": {},
     "output_type": "execute_result"
    }
   ],
   "source": [
    "1+2"
   ]
  },
  {
   "cell_type": "code",
   "execution_count": 2,
   "id": "751d5363",
   "metadata": {},
   "outputs": [
    {
     "data": {
      "text/plain": [
       "10"
      ]
     },
     "execution_count": 2,
     "metadata": {},
     "output_type": "execute_result"
    }
   ],
   "source": [
    "# Assign\n",
    "a =10\n",
    "a"
   ]
  },
  {
   "cell_type": "code",
   "execution_count": 3,
   "id": "0cbd5b8e",
   "metadata": {},
   "outputs": [
    {
     "name": "stdout",
     "output_type": "stream",
     "text": [
      "15\n"
     ]
    }
   ],
   "source": [
    "print(a+5) # 10 + 5 "
   ]
  },
  {
   "cell_type": "markdown",
   "id": "7b9b70fd",
   "metadata": {},
   "source": [
    "# Day - 2"
   ]
  },
  {
   "cell_type": "markdown",
   "id": "04ab9011",
   "metadata": {},
   "source": [
    "## Basics of Python"
   ]
  },
  {
   "cell_type": "code",
   "execution_count": 4,
   "id": "e3acf9da",
   "metadata": {},
   "outputs": [
    {
     "name": "stdout",
     "output_type": "stream",
     "text": [
      "Hello World\n",
      "This is my first python code\n"
     ]
    }
   ],
   "source": [
    "print(\"Hello World\")\n",
    "print(\"This is my first python code\")"
   ]
  },
  {
   "cell_type": "markdown",
   "id": "9f66a00a",
   "metadata": {},
   "source": [
    "### We do KT - (Knowledge Transfer) when we leave the company , so that time comments will help"
   ]
  },
  {
   "cell_type": "code",
   "execution_count": 5,
   "id": "80b35426",
   "metadata": {},
   "outputs": [
    {
     "name": "stdout",
     "output_type": "stream",
     "text": [
      "Hello\n"
     ]
    }
   ],
   "source": [
    "# Single line comment \n",
    "\n",
    "\"\"\"\n",
    "Multi line comment \n",
    "\"\"\"\n",
    "\n",
    "print(\"Hello\")"
   ]
  },
  {
   "cell_type": "code",
   "execution_count": null,
   "id": "337b35f1",
   "metadata": {},
   "outputs": [
    {
     "data": {
      "text/plain": [
       "int"
      ]
     },
     "execution_count": 6,
     "metadata": {},
     "output_type": "execute_result"
    }
   ],
   "source": [
    "# In python not required to for Variable declaration \n",
    "a = 10\n",
    "type(a)"
   ]
  },
  {
   "cell_type": "code",
   "execution_count": 9,
   "id": "50e01df3",
   "metadata": {},
   "outputs": [
    {
     "name": "stdout",
     "output_type": "stream",
     "text": [
      "<class 'int'>\n",
      "<class 'float'>\n",
      "<class 'bool'>\n",
      "<class 'str'>\n"
     ]
    }
   ],
   "source": [
    "ten = 10\n",
    "float_no = 4.4\n",
    "bol = True\n",
    "string = \"Data\"\n",
    "\n",
    "print(type(ten))\n",
    "print(type(float_no))\n",
    "print(type(bol))\n",
    "print(type(string))"
   ]
  },
  {
   "cell_type": "code",
   "execution_count": 10,
   "id": "4323f73f",
   "metadata": {},
   "outputs": [],
   "source": [
    "# 1a = 10 # Invalid variable name\n",
    "a1 = 10 # Valid variable name"
   ]
  },
  {
   "cell_type": "code",
   "execution_count": 11,
   "id": "5f28a124",
   "metadata": {},
   "outputs": [
    {
     "data": {
      "text/plain": [
       "int"
      ]
     },
     "execution_count": 11,
     "metadata": {},
     "output_type": "execute_result"
    }
   ],
   "source": [
    "## integer\n",
    "a = 10\n",
    "type(a)"
   ]
  },
  {
   "cell_type": "code",
   "execution_count": 10,
   "id": "81b8d021",
   "metadata": {},
   "outputs": [
    {
     "data": {
      "text/plain": [
       "20"
      ]
     },
     "execution_count": 10,
     "metadata": {},
     "output_type": "execute_result"
    }
   ],
   "source": [
    "a + 10"
   ]
  },
  {
   "cell_type": "code",
   "execution_count": 12,
   "id": "1aa9df63",
   "metadata": {},
   "outputs": [
    {
     "data": {
      "text/plain": [
       "100"
      ]
     },
     "execution_count": 12,
     "metadata": {},
     "output_type": "execute_result"
    }
   ],
   "source": [
    "a * 10"
   ]
  },
  {
   "cell_type": "code",
   "execution_count": 13,
   "id": "59742d78",
   "metadata": {},
   "outputs": [
    {
     "name": "stdout",
     "output_type": "stream",
     "text": [
      "14\n"
     ]
    }
   ],
   "source": [
    "a = 10\n",
    "b = 4\n",
    "print(a + b)"
   ]
  },
  {
   "cell_type": "code",
   "execution_count": 14,
   "id": "01fef43c",
   "metadata": {},
   "outputs": [
    {
     "name": "stdout",
     "output_type": "stream",
     "text": [
      "<class 'float'>\n",
      "10.5\n"
     ]
    }
   ],
   "source": [
    "#Floating variable\n",
    "\n",
    "a = 10.5\n",
    "print(type(a))\n",
    "print(a)"
   ]
  },
  {
   "cell_type": "code",
   "execution_count": 17,
   "id": "f6377414",
   "metadata": {},
   "outputs": [
    {
     "data": {
      "text/plain": [
       "4"
      ]
     },
     "execution_count": 17,
     "metadata": {},
     "output_type": "execute_result"
    }
   ],
   "source": [
    "# type casting\n",
    "\n",
    "a = 4.4\n",
    "int(a)"
   ]
  },
  {
   "cell_type": "code",
   "execution_count": 18,
   "id": "704ab659",
   "metadata": {},
   "outputs": [
    {
     "name": "stdout",
     "output_type": "stream",
     "text": [
      "<class 'float'>\n",
      "4.4\n"
     ]
    }
   ],
   "source": [
    "print(type(a))\n",
    "print(a)"
   ]
  },
  {
   "cell_type": "code",
   "execution_count": 19,
   "id": "264473b9",
   "metadata": {},
   "outputs": [
    {
     "data": {
      "text/plain": [
       "50.0"
      ]
     },
     "execution_count": 19,
     "metadata": {},
     "output_type": "execute_result"
    }
   ],
   "source": [
    "b = 50\n",
    "\n",
    "float(b) # type casting"
   ]
  },
  {
   "cell_type": "code",
   "execution_count": 20,
   "id": "0ba36a02",
   "metadata": {},
   "outputs": [
    {
     "name": "stdout",
     "output_type": "stream",
     "text": [
      "50\n",
      "<class 'int'>\n"
     ]
    }
   ],
   "source": [
    "print(b)\n",
    "print(type(b))"
   ]
  },
  {
   "cell_type": "code",
   "execution_count": 21,
   "id": "0037e387",
   "metadata": {},
   "outputs": [
    {
     "name": "stdout",
     "output_type": "stream",
     "text": [
      "<class 'bool'>\n",
      "<class 'bool'>\n"
     ]
    }
   ],
   "source": [
    "## Boolean values  (0, 1) , True, False\n",
    "\n",
    "a1 = True\n",
    "b1 = False\n",
    "print(type(a1))\n",
    "print(type(b1))"
   ]
  },
  {
   "cell_type": "code",
   "execution_count": null,
   "id": "f35b50af",
   "metadata": {},
   "outputs": [
    {
     "data": {
      "text/plain": [
       "False"
      ]
     },
     "execution_count": 23,
     "metadata": {},
     "output_type": "execute_result"
    }
   ],
   "source": [
    "a1 = True\n",
    "b1 = False\n",
    "\n",
    "a1 and b1 # True and False"
   ]
  },
  {
   "cell_type": "code",
   "execution_count": null,
   "id": "1da6be4a",
   "metadata": {},
   "outputs": [
    {
     "data": {
      "text/plain": [
       "True"
      ]
     },
     "execution_count": 24,
     "metadata": {},
     "output_type": "execute_result"
    }
   ],
   "source": [
    "a1 or b1 # True or False"
   ]
  },
  {
   "cell_type": "code",
   "execution_count": 25,
   "id": "72d8c23a",
   "metadata": {},
   "outputs": [
    {
     "name": "stdout",
     "output_type": "stream",
     "text": [
      "Pratap\n",
      "<class 'str'>\n"
     ]
    }
   ],
   "source": [
    "name = \"Pratap\"\n",
    "\n",
    "print(name)\n",
    "print(type(name))"
   ]
  },
  {
   "cell_type": "code",
   "execution_count": 26,
   "id": "5e9adceb",
   "metadata": {},
   "outputs": [
    {
     "data": {
      "text/plain": [
       "'Pratap Singh'"
      ]
     },
     "execution_count": 26,
     "metadata": {},
     "output_type": "execute_result"
    }
   ],
   "source": [
    "name + \" Singh\""
   ]
  },
  {
   "cell_type": "code",
   "execution_count": 27,
   "id": "fe5fcee2",
   "metadata": {},
   "outputs": [
    {
     "data": {
      "text/plain": [
       "'Pratap Sir'"
      ]
     },
     "execution_count": 27,
     "metadata": {},
     "output_type": "execute_result"
    }
   ],
   "source": [
    "name + \" Sir\""
   ]
  },
  {
   "cell_type": "code",
   "execution_count": 28,
   "id": "d286db31",
   "metadata": {},
   "outputs": [
    {
     "data": {
      "text/plain": [
       "'Pratap8'"
      ]
     },
     "execution_count": 28,
     "metadata": {},
     "output_type": "execute_result"
    }
   ],
   "source": [
    "name + str(8)"
   ]
  },
  {
   "cell_type": "code",
   "execution_count": 26,
   "id": "86951c85",
   "metadata": {},
   "outputs": [
    {
     "data": {
      "text/plain": [
       "'Pratapsmart'"
      ]
     },
     "execution_count": 26,
     "metadata": {},
     "output_type": "execute_result"
    }
   ],
   "source": [
    "name + str(\"smart\")"
   ]
  },
  {
   "cell_type": "code",
   "execution_count": 28,
   "id": "0d114d34",
   "metadata": {},
   "outputs": [],
   "source": [
    "# name + int(8) # Error , we cannot concatenate string with integer"
   ]
  },
  {
   "cell_type": "code",
   "execution_count": 29,
   "id": "52564b47",
   "metadata": {},
   "outputs": [
    {
     "data": {
      "text/plain": [
       "'Pratap 8.0'"
      ]
     },
     "execution_count": 29,
     "metadata": {},
     "output_type": "execute_result"
    }
   ],
   "source": [
    "name + str(\" 8.0\")\n"
   ]
  },
  {
   "cell_type": "code",
   "execution_count": 30,
   "id": "3f284737",
   "metadata": {},
   "outputs": [
    {
     "name": "stdout",
     "output_type": "stream",
     "text": [
      "(2+3j)\n",
      "<class 'complex'>\n"
     ]
    }
   ],
   "source": [
    "# Complex number\n",
    "a = 2 + 3j\n",
    "print(a)\n",
    "print(type(a))"
   ]
  },
  {
   "cell_type": "code",
   "execution_count": 31,
   "id": "ac90d2e7",
   "metadata": {},
   "outputs": [
    {
     "name": "stdout",
     "output_type": "stream",
     "text": [
      "2.0 3.0\n",
      "3.0\n",
      "(2-3j)\n"
     ]
    }
   ],
   "source": [
    "print(a.real,a.imag) # real part and imaginary part\n",
    "print(a.imag) # imaginary part\n",
    "print(a.conjugate()) # it will change the sign of imaginary part"
   ]
  },
  {
   "cell_type": "code",
   "execution_count": 32,
   "id": "c5c64ec0",
   "metadata": {},
   "outputs": [
    {
     "name": "stdout",
     "output_type": "stream",
     "text": [
      "10\n",
      "<class 'int'>\n",
      "Data Science\n",
      "<class 'str'>\n"
     ]
    }
   ],
   "source": [
    "# Dynamic typing\n",
    "a = 10\n",
    "print(a)\n",
    "print(type(a))\n",
    "\n",
    "# Changing the data type of variable\n",
    "a = \"Data Science\"\n",
    "print(a)\n",
    "print(type(a))"
   ]
  },
  {
   "cell_type": "code",
   "execution_count": 33,
   "id": "0318066c",
   "metadata": {},
   "outputs": [],
   "source": [
    "# strong typing\n",
    "a = \"Hello\""
   ]
  },
  {
   "cell_type": "code",
   "execution_count": 34,
   "id": "384dc301",
   "metadata": {},
   "outputs": [
    {
     "data": {
      "text/plain": [
       "'Hello1'"
      ]
     },
     "execution_count": 34,
     "metadata": {},
     "output_type": "execute_result"
    }
   ],
   "source": [
    "a + \"1\""
   ]
  },
  {
   "cell_type": "code",
   "execution_count": null,
   "id": "cd3f1fb6",
   "metadata": {},
   "outputs": [],
   "source": [
    "# a + 1 # Error"
   ]
  },
  {
   "cell_type": "code",
   "execution_count": 35,
   "id": "3787ba89",
   "metadata": {},
   "outputs": [
    {
     "data": {
      "text/plain": [
       "'Hello8'"
      ]
     },
     "execution_count": 35,
     "metadata": {},
     "output_type": "execute_result"
    }
   ],
   "source": [
    "a + str(8)"
   ]
  },
  {
   "cell_type": "code",
   "execution_count": 36,
   "id": "0b9a95c4",
   "metadata": {},
   "outputs": [
    {
     "name": "stdout",
     "output_type": "stream",
     "text": [
      "The value is - 100\n"
     ]
    }
   ],
   "source": [
    "# String formatting\n",
    "a = 100\n",
    "print('The value is -', a)"
   ]
  },
  {
   "cell_type": "code",
   "execution_count": 37,
   "id": "bc31f13d",
   "metadata": {},
   "outputs": [
    {
     "name": "stdout",
     "output_type": "stream",
     "text": [
      "The first name is Pratap and last name is Singh\n"
     ]
    }
   ],
   "source": [
    "first_name = \"Pratap\"\n",
    "last_name = \"Singh\"\n",
    "print(\"The first name is {} and last name is {}\".format(first_name,last_name))"
   ]
  },
  {
   "cell_type": "code",
   "execution_count": 38,
   "id": "c9cc29b3",
   "metadata": {},
   "outputs": [
    {
     "name": "stdout",
     "output_type": "stream",
     "text": [
      "The company name is DotandDash and location is Pune\n"
     ]
    }
   ],
   "source": [
    "company_name = \"DotandDash\"\n",
    "company_location = \"Pune\"\n",
    "print(\"The company name is {} and location is {}\".format(company_name,company_location))"
   ]
  },
  {
   "cell_type": "code",
   "execution_count": 39,
   "id": "34015604",
   "metadata": {},
   "outputs": [
    {
     "name": "stdout",
     "output_type": "stream",
     "text": [
      "Your first name is shree and Your last name is baba\n"
     ]
    }
   ],
   "source": [
    "first_name = input(\"Enter first name: \")\n",
    "last_name = input(\"Enter last name: \")\n",
    "print(\"Your first name is {} and Your last name is {}\".format(first_name,last_name))"
   ]
  },
  {
   "cell_type": "code",
   "execution_count": 40,
   "id": "42164656",
   "metadata": {},
   "outputs": [
    {
     "name": "stdout",
     "output_type": "stream",
     "text": [
      "My first name is Singh and last name is Pratap\n"
     ]
    }
   ],
   "source": [
    "first_name = \"Pratap\"\n",
    "last_name = \"Singh\"\n",
    "print(\"My first name is {1} and last name is {0}\".format(first_name,last_name)) # replace index values"
   ]
  },
  {
   "cell_type": "code",
   "execution_count": 41,
   "id": "7bcd6e60",
   "metadata": {},
   "outputs": [
    {
     "name": "stdout",
     "output_type": "stream",
     "text": [
      "My first name is Pratap and last name is Singh\n"
     ]
    }
   ],
   "source": [
    "# String formatting with key value pair\n",
    "first_name = \"Pratap\"\n",
    "last_name = \"Singh\"\n",
    "print(\"My first name is {a} and last name is {b}\".format(a=first_name,b=last_name))"
   ]
  },
  {
   "cell_type": "markdown",
   "id": "7de50dd0",
   "metadata": {},
   "source": [
    "### String means it is in Double quote (\"hello\", '123')\n",
    "### Integer means it is in whole number (10, 50)"
   ]
  },
  {
   "cell_type": "code",
   "execution_count": 42,
   "id": "dcafb745",
   "metadata": {},
   "outputs": [
    {
     "name": "stdout",
     "output_type": "stream",
     "text": [
      "2010\n",
      "<class 'str'>\n",
      "30\n",
      "30.0\n"
     ]
    }
   ],
   "source": [
    "## input type\n",
    "\n",
    "a = input(\"Enter a value of A\")\n",
    "b = input(\"Enter a value of B\")\n",
    "print(a+b)\n",
    "print(type(a))\n",
    "print(int(a)+int(b)) # Type casting to integer\n",
    "print(float(a)+float(b)) # Type casting to float"
   ]
  },
  {
   "cell_type": "code",
   "execution_count": null,
   "id": "63cb29af",
   "metadata": {},
   "outputs": [],
   "source": []
  }
 ],
 "metadata": {
  "kernelspec": {
   "display_name": ".venv (3.13.7)",
   "language": "python",
   "name": "python3"
  },
  "language_info": {
   "codemirror_mode": {
    "name": "ipython",
    "version": 3
   },
   "file_extension": ".py",
   "mimetype": "text/x-python",
   "name": "python",
   "nbconvert_exporter": "python",
   "pygments_lexer": "ipython3",
   "version": "3.13.7"
  }
 },
 "nbformat": 4,
 "nbformat_minor": 5
}
