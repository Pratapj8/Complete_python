{
 "cells": [
  {
   "cell_type": "markdown",
   "id": "e32ecc8e",
   "metadata": {},
   "source": [
    "# Number Methods"
   ]
  },
  {
   "cell_type": "code",
   "execution_count": 1,
   "id": "ddc3f946",
   "metadata": {},
   "outputs": [
    {
     "data": {
      "text/plain": [
       "3"
      ]
     },
     "execution_count": 1,
     "metadata": {},
     "output_type": "execute_result"
    }
   ],
   "source": [
    "1 +2"
   ]
  },
  {
   "cell_type": "markdown",
   "id": "5ec14448",
   "metadata": {},
   "source": [
    "### abs()\n",
    "\n",
    "`abs(x)` will return the absolute value of a number x which we pass in argument. The number x can be integer, float, complex,.."
   ]
  },
  {
   "cell_type": "code",
   "execution_count": null,
   "id": "dde83332",
   "metadata": {},
   "outputs": [
    {
     "data": {
      "text/plain": [
       "5"
      ]
     },
     "execution_count": 2,
     "metadata": {},
     "output_type": "execute_result"
    }
   ],
   "source": [
    "# Absolute function , It will always return positive value\n",
    "abs(-5) # 5"
   ]
  },
  {
   "cell_type": "code",
   "execution_count": 3,
   "id": "d79f5eee",
   "metadata": {},
   "outputs": [
    {
     "data": {
      "text/plain": [
       "25"
      ]
     },
     "execution_count": 3,
     "metadata": {},
     "output_type": "execute_result"
    }
   ],
   "source": [
    "abs(-25) # 5"
   ]
  },
  {
   "cell_type": "markdown",
   "id": "67e68a3a",
   "metadata": {},
   "source": [
    "### ceil()\n",
    "\n",
    "ceil(x) will return the ceiling value of a number x which we pass in argument. The ceiling value of a number x will be the smallest integer not less than x\n",
    "\n",
    ">**Note** :- This function will not be accessible directly using ceil() method. Math module will be required to access this method."
   ]
  },
  {
   "cell_type": "code",
   "execution_count": 4,
   "id": "94b1c0a0",
   "metadata": {},
   "outputs": [
    {
     "data": {
      "text/plain": [
       "6"
      ]
     },
     "execution_count": 4,
     "metadata": {},
     "output_type": "execute_result"
    }
   ],
   "source": [
    "# Ceil is just upper value\n",
    "import math\n",
    "math.ceil(5.1) # 6"
   ]
  },
  {
   "cell_type": "code",
   "execution_count": 8,
   "id": "4066c246",
   "metadata": {},
   "outputs": [
    {
     "data": {
      "text/plain": [
       "54"
      ]
     },
     "execution_count": 8,
     "metadata": {},
     "output_type": "execute_result"
    }
   ],
   "source": [
    "math.ceil(53.1) # 54"
   ]
  },
  {
   "cell_type": "code",
   "execution_count": 9,
   "id": "236f2f79",
   "metadata": {},
   "outputs": [
    {
     "data": {
      "text/plain": [
       "-44"
      ]
     },
     "execution_count": 9,
     "metadata": {},
     "output_type": "execute_result"
    }
   ],
   "source": [
    "math.ceil(-44.5) # -44"
   ]
  },
  {
   "cell_type": "code",
   "execution_count": 7,
   "id": "1f1ed9fd",
   "metadata": {},
   "outputs": [
    {
     "name": "stdout",
     "output_type": "stream",
     "text": [
      "85\n"
     ]
    }
   ],
   "source": [
    "# Usecase of ceil function in bank interest calculation\n",
    "# Suppose you have 1000 rs and bank is giving 8.5% interest\n",
    "# After 1 year you will get 85 rs as interest\n",
    "# But bank will give you 86 rs because they will use ceil function to round off the\n",
    "\n",
    "bank_interest = math.ceil(1000 * 8.5 / 100) # 86\n",
    "print(bank_interest)"
   ]
  },
  {
   "cell_type": "markdown",
   "id": "edac9a8e",
   "metadata": {},
   "source": [
    "## Floor"
   ]
  },
  {
   "cell_type": "code",
   "execution_count": 10,
   "id": "8ddb9526",
   "metadata": {},
   "outputs": [
    {
     "data": {
      "text/plain": [
       "5"
      ]
     },
     "execution_count": 10,
     "metadata": {},
     "output_type": "execute_result"
    }
   ],
   "source": [
    "# Floor function , It will always return lower value\n",
    "math.floor(5.9) # 5"
   ]
  },
  {
   "cell_type": "code",
   "execution_count": 11,
   "id": "8066ae11",
   "metadata": {},
   "outputs": [
    {
     "data": {
      "text/plain": [
       "-57"
      ]
     },
     "execution_count": 11,
     "metadata": {},
     "output_type": "execute_result"
    }
   ],
   "source": [
    "math.floor(-56.9) # -57"
   ]
  },
  {
   "cell_type": "code",
   "execution_count": 12,
   "id": "92eb3d16",
   "metadata": {},
   "outputs": [
    {
     "data": {
      "text/plain": [
       "46"
      ]
     },
     "execution_count": 12,
     "metadata": {},
     "output_type": "execute_result"
    }
   ],
   "source": [
    "math.ceil(45.1) # 46"
   ]
  },
  {
   "cell_type": "markdown",
   "id": "e1f88629",
   "metadata": {},
   "source": [
    "## exp()\n",
    "**exp(x)** will return the exponential value of a number x which we pass in argument.\n",
    "\n",
    ">**Note:- ** This function will not be accessible directly using exp() method. Math module will be required to access this method."
   ]
  },
  {
   "cell_type": "code",
   "execution_count": null,
   "id": "88f57683",
   "metadata": {},
   "outputs": [
    {
     "data": {
      "text/plain": [
       "20.085536923187668"
      ]
     },
     "execution_count": 15,
     "metadata": {},
     "output_type": "execute_result"
    }
   ],
   "source": [
    "# exponential function , It will return e^x value\n",
    "# It calculates the value of e (approximately 2.71828) raised to the power of x\n",
    "\n",
    "math.exp(3) # 20.085537"
   ]
  },
  {
   "cell_type": "code",
   "execution_count": 14,
   "id": "0b1a1a25",
   "metadata": {},
   "outputs": [
    {
     "data": {
      "text/plain": [
       "148.4131591025766"
      ]
     },
     "execution_count": 14,
     "metadata": {},
     "output_type": "execute_result"
    }
   ],
   "source": [
    "math.exp(5) # 148.413159"
   ]
  },
  {
   "cell_type": "code",
   "execution_count": 16,
   "id": "6b254298",
   "metadata": {},
   "outputs": [
    {
     "data": {
      "text/plain": [
       "0.0009118819655545162"
      ]
     },
     "execution_count": 16,
     "metadata": {},
     "output_type": "execute_result"
    }
   ],
   "source": [
    "math.exp(-7) # 0.000911882"
   ]
  },
  {
   "cell_type": "markdown",
   "id": "58dfe943",
   "metadata": {},
   "source": [
    "## Fabs ()"
   ]
  },
  {
   "cell_type": "code",
   "execution_count": 17,
   "id": "13ed3555",
   "metadata": {},
   "outputs": [
    {
     "data": {
      "text/plain": [
       "45.6"
      ]
     },
     "execution_count": 17,
     "metadata": {},
     "output_type": "execute_result"
    }
   ],
   "source": [
    "# fabs() function , It will return absolute value of float number\n",
    "math.fabs(-45.6) # 45.6"
   ]
  },
  {
   "cell_type": "code",
   "execution_count": 18,
   "id": "c65c4006",
   "metadata": {},
   "outputs": [
    {
     "data": {
      "text/plain": [
       "10.0"
      ]
     },
     "execution_count": 18,
     "metadata": {},
     "output_type": "execute_result"
    }
   ],
   "source": [
    "math.fabs(-10) # 10.0"
   ]
  },
  {
   "cell_type": "code",
   "execution_count": 19,
   "id": "987c1676",
   "metadata": {},
   "outputs": [
    {
     "data": {
      "text/plain": [
       "20.0"
      ]
     },
     "execution_count": 19,
     "metadata": {},
     "output_type": "execute_result"
    }
   ],
   "source": [
    "math.fabs(20)   # 20.0"
   ]
  },
  {
   "cell_type": "markdown",
   "id": "a27555ce",
   "metadata": {},
   "source": [
    "## logs ()"
   ]
  },
  {
   "cell_type": "code",
   "execution_count": null,
   "id": "09237f40",
   "metadata": {},
   "outputs": [
    {
     "data": {
      "text/plain": [
       "0.0"
      ]
     },
     "execution_count": 20,
     "metadata": {},
     "output_type": "execute_result"
    }
   ],
   "source": [
    "# logs () function , It will return natural logarithm of x\n",
    "# It is used to calculate the logarithm of a number to the base e (where e is approximately equal to 2.71828).\n",
    "math.log(1) # 0.0"
   ]
  },
  {
   "cell_type": "code",
   "execution_count": 21,
   "id": "d1dc982d",
   "metadata": {},
   "outputs": [
    {
     "data": {
      "text/plain": [
       "2.995732273553991"
      ]
     },
     "execution_count": 21,
     "metadata": {},
     "output_type": "execute_result"
    }
   ],
   "source": [
    "math.log(20) # 2.995732273553991"
   ]
  },
  {
   "cell_type": "markdown",
   "id": "264fd20a",
   "metadata": {},
   "source": [
    "## max()"
   ]
  },
  {
   "cell_type": "code",
   "execution_count": 22,
   "id": "42617941",
   "metadata": {},
   "outputs": [
    {
     "data": {
      "text/plain": [
       "50"
      ]
     },
     "execution_count": 22,
     "metadata": {},
     "output_type": "execute_result"
    }
   ],
   "source": [
    "# max function , It will return maximum value from the given values\n",
    "max(10,20,30,40,50) # 50"
   ]
  },
  {
   "cell_type": "code",
   "execution_count": 23,
   "id": "3aa3c421",
   "metadata": {},
   "outputs": [
    {
     "data": {
      "text/plain": [
       "-10"
      ]
     },
     "execution_count": 23,
     "metadata": {},
     "output_type": "execute_result"
    }
   ],
   "source": [
    "max(-10,-20,-30) # -10"
   ]
  },
  {
   "cell_type": "markdown",
   "id": "92e31171",
   "metadata": {},
   "source": [
    "## min ()"
   ]
  },
  {
   "cell_type": "code",
   "execution_count": 24,
   "id": "2aeafc64",
   "metadata": {},
   "outputs": [
    {
     "data": {
      "text/plain": [
       "10"
      ]
     },
     "execution_count": 24,
     "metadata": {},
     "output_type": "execute_result"
    }
   ],
   "source": [
    "# min () function , It will return minimum value from the given values\n",
    "min(10,20,30,40,50) # 10"
   ]
  },
  {
   "cell_type": "code",
   "execution_count": 25,
   "id": "beb94b0b",
   "metadata": {},
   "outputs": [
    {
     "data": {
      "text/plain": [
       "-30"
      ]
     },
     "execution_count": 25,
     "metadata": {},
     "output_type": "execute_result"
    }
   ],
   "source": [
    "min(-10,-20,-30) # -30"
   ]
  },
  {
   "cell_type": "markdown",
   "id": "b96ec009",
   "metadata": {},
   "source": [
    "## Power()"
   ]
  },
  {
   "cell_type": "code",
   "execution_count": 26,
   "id": "eaf0f5c7",
   "metadata": {},
   "outputs": [
    {
     "data": {
      "text/plain": [
       "8"
      ]
     },
     "execution_count": 26,
     "metadata": {},
     "output_type": "execute_result"
    }
   ],
   "source": [
    "# power function , It will return x raised to the power y (x^y)\n",
    "pow(2,3) # 8"
   ]
  },
  {
   "cell_type": "code",
   "execution_count": 27,
   "id": "87c8960b",
   "metadata": {},
   "outputs": [
    {
     "data": {
      "text/plain": [
       "81.0"
      ]
     },
     "execution_count": 27,
     "metadata": {},
     "output_type": "execute_result"
    }
   ],
   "source": [
    "math.pow(3,4) # 81"
   ]
  },
  {
   "cell_type": "code",
   "execution_count": 28,
   "id": "b920c51a",
   "metadata": {},
   "outputs": [
    {
     "data": {
      "text/plain": [
       "-125.0"
      ]
     },
     "execution_count": 28,
     "metadata": {},
     "output_type": "execute_result"
    }
   ],
   "source": [
    "math.pow(-5,3) # -125"
   ]
  },
  {
   "cell_type": "markdown",
   "id": "4c66c435",
   "metadata": {},
   "source": [
    "## sqrt()"
   ]
  },
  {
   "cell_type": "code",
   "execution_count": 29,
   "id": "c3d815af",
   "metadata": {},
   "outputs": [
    {
     "data": {
      "text/plain": [
       "5.0"
      ]
     },
     "execution_count": 29,
     "metadata": {},
     "output_type": "execute_result"
    }
   ],
   "source": [
    "# sqrt () function , It will return square root of given number\n",
    "math.sqrt(25) # 5.0"
   ]
  },
  {
   "cell_type": "code",
   "execution_count": 32,
   "id": "052a774d",
   "metadata": {},
   "outputs": [
    {
     "data": {
      "text/plain": [
       "7.0"
      ]
     },
     "execution_count": 32,
     "metadata": {},
     "output_type": "execute_result"
    }
   ],
   "source": [
    "math.sqrt(49) # 7.0"
   ]
  },
  {
   "cell_type": "code",
   "execution_count": 31,
   "id": "23cbac3a",
   "metadata": {},
   "outputs": [],
   "source": [
    "# math.sqrt(-25) # Error"
   ]
  },
  {
   "cell_type": "markdown",
   "id": "05dee053",
   "metadata": {},
   "source": [
    "# Triggnometric functions"
   ]
  },
  {
   "cell_type": "code",
   "execution_count": 33,
   "id": "41085600",
   "metadata": {},
   "outputs": [
    {
     "data": {
      "text/plain": [
       "-0.9880316240928618"
      ]
     },
     "execution_count": 33,
     "metadata": {},
     "output_type": "execute_result"
    }
   ],
   "source": [
    "# Trigonometric functions , It is used to perform trigonometric operations\n",
    "math.sin(30) # -0.49999999999999994"
   ]
  },
  {
   "cell_type": "code",
   "execution_count": 34,
   "id": "ed055cf9",
   "metadata": {},
   "outputs": [
    {
     "data": {
      "text/plain": [
       "-0.9524129804151563"
      ]
     },
     "execution_count": 34,
     "metadata": {},
     "output_type": "execute_result"
    }
   ],
   "source": [
    "math.cos(60) # 0.5000000000000001"
   ]
  },
  {
   "cell_type": "code",
   "execution_count": 35,
   "id": "6e87ddab",
   "metadata": {},
   "outputs": [
    {
     "data": {
      "text/plain": [
       "1.6197751905438615"
      ]
     },
     "execution_count": 35,
     "metadata": {},
     "output_type": "execute_result"
    }
   ],
   "source": [
    "math.tan(45) # 0.9999999999999999"
   ]
  },
  {
   "cell_type": "markdown",
   "id": "f5975761",
   "metadata": {},
   "source": [
    "# Hypot()"
   ]
  },
  {
   "cell_type": "code",
   "execution_count": 36,
   "id": "45adeabc",
   "metadata": {},
   "outputs": [
    {
     "data": {
      "text/plain": [
       "5.0"
      ]
     },
     "execution_count": 36,
     "metadata": {},
     "output_type": "execute_result"
    }
   ],
   "source": [
    "# hypot() function , It will return the Euclidean norm, sqrt(x*x + y*y)\n",
    "math.hypot(3,4) # 5.0"
   ]
  },
  {
   "cell_type": "code",
   "execution_count": 37,
   "id": "4ba5f039",
   "metadata": {},
   "outputs": [
    {
     "data": {
      "text/plain": [
       "3.605551275463989"
      ]
     },
     "execution_count": 37,
     "metadata": {},
     "output_type": "execute_result"
    }
   ],
   "source": [
    "math.hypot(2,3) # 3.605551275463989"
   ]
  },
  {
   "cell_type": "markdown",
   "id": "e1de55e1",
   "metadata": {},
   "source": [
    "# modf ()"
   ]
  },
  {
   "cell_type": "code",
   "execution_count": null,
   "id": "6bb0688e",
   "metadata": {},
   "outputs": [
    {
     "data": {
      "text/plain": [
       "(0.5, 5.0)"
      ]
     },
     "execution_count": 38,
     "metadata": {},
     "output_type": "execute_result"
    }
   ],
   "source": [
    "# modf ()\n",
    "# # It will return the fractional and integer parts of x in a two-item tuple (fractional part, integer part)\n",
    "math.modf(5.5) # (0.5, 5.0)"
   ]
  },
  {
   "cell_type": "code",
   "execution_count": 39,
   "id": "066149ec",
   "metadata": {},
   "outputs": [
    {
     "data": {
      "text/plain": [
       "(0.75, 10.0)"
      ]
     },
     "execution_count": 39,
     "metadata": {},
     "output_type": "execute_result"
    }
   ],
   "source": [
    "math.modf(10.75) # (0.75, 10.0)"
   ]
  },
  {
   "cell_type": "code",
   "execution_count": null,
   "id": "cd78415b",
   "metadata": {},
   "outputs": [
    {
     "name": "stdout",
     "output_type": "stream",
     "text": [
      "29 is a prime number\n"
     ]
    }
   ],
   "source": [
    "# Program to check prime numbers\n",
    "num = 29\n",
    "\n",
    "is_prime = True\n",
    "for i in range(2, int(math.sqrt(num)) + 1):\n",
    "    if num % i == 0:\n",
    "        is_prime = False\n",
    "        break\n",
    "if is_prime:\n",
    "    print(f\"{num} is a prime number\")\n",
    "else:\n",
    "    print(f\"{num} is not a prime number\")"
   ]
  },
  {
   "cell_type": "code",
   "execution_count": 41,
   "id": "53968fc5",
   "metadata": {},
   "outputs": [
    {
     "name": "stdout",
     "output_type": "stream",
     "text": [
      "20 is the maximum number\n"
     ]
    }
   ],
   "source": [
    "# program to check max of 3 numbers\n",
    "a = 10\n",
    "b = 20\n",
    "c = 15\n",
    "\n",
    "if a >= b and a >= c:\n",
    "    print(f\"{a} is the maximum number\")\n",
    "elif b >= a and b >= c:\n",
    "    print(f\"{b} is the maximum number\")\n",
    "else:\n",
    "    print(f\"{c} is the maximum number\")"
   ]
  }
 ],
 "metadata": {
  "kernelspec": {
   "display_name": ".venv (3.13.7)",
   "language": "python",
   "name": "python3"
  },
  "language_info": {
   "codemirror_mode": {
    "name": "ipython",
    "version": 3
   },
   "file_extension": ".py",
   "mimetype": "text/x-python",
   "name": "python",
   "nbconvert_exporter": "python",
   "pygments_lexer": "ipython3",
   "version": "3.13.7"
  }
 },
 "nbformat": 4,
 "nbformat_minor": 5
}
