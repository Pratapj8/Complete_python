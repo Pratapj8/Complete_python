{
 "cells": [
  {
   "cell_type": "markdown",
   "id": "c163eb2d",
   "metadata": {},
   "source": [
    "## Python Operator"
   ]
  },
  {
   "cell_type": "markdown",
   "id": "1d2587d7",
   "metadata": {},
   "source": [
    "- Logical\n",
    "- Equality\n",
    "- Comparision\n",
    "- Arithmetic"
   ]
  },
  {
   "cell_type": "markdown",
   "id": "7d6893a7",
   "metadata": {},
   "source": [
    "### 4.1.1 Logical Operators\n",
    "In python following keywords are used for boolean operations -\n",
    "\n",
    "|Keywords | Meaning|\n",
    "|-|-|\n",
    "|**not**|unary negation|\n",
    "|**and**|conditional AND|\n",
    "|**or**|conditional OR| \n",
    "\n",
    "**EXAMPLES**:"
   ]
  },
  {
   "cell_type": "code",
   "execution_count": 1,
   "id": "21bae8f0",
   "metadata": {},
   "outputs": [
    {
     "data": {
      "text/plain": [
       "False"
      ]
     },
     "execution_count": 1,
     "metadata": {},
     "output_type": "execute_result"
    }
   ],
   "source": [
    "False"
   ]
  },
  {
   "cell_type": "code",
   "execution_count": 2,
   "id": "8c5cd4d6",
   "metadata": {},
   "outputs": [
    {
     "data": {
      "text/plain": [
       "bool"
      ]
     },
     "execution_count": 2,
     "metadata": {},
     "output_type": "execute_result"
    }
   ],
   "source": [
    "type(False  )"
   ]
  },
  {
   "cell_type": "code",
   "execution_count": 3,
   "id": "40cfedb1",
   "metadata": {},
   "outputs": [
    {
     "data": {
      "text/plain": [
       "True"
      ]
     },
     "execution_count": 3,
     "metadata": {},
     "output_type": "execute_result"
    }
   ],
   "source": [
    "# type casting\n",
    "bool(1)"
   ]
  },
  {
   "cell_type": "code",
   "execution_count": 4,
   "id": "b774e967",
   "metadata": {},
   "outputs": [
    {
     "name": "stdout",
     "output_type": "stream",
     "text": [
      "True\n",
      "False\n",
      "False\n",
      "True\n",
      "False\n",
      "True\n",
      "False\n",
      "True\n"
     ]
    }
   ],
   "source": [
    "# Type casting and printing all the possible values of bool function\n",
    "\n",
    "print(bool(1)) # True\n",
    "print(bool(0)) # False\n",
    "print(bool(\"\")) # False\n",
    "print(bool(\"Hello\")) # True\n",
    "print(bool([])) # False\n",
    "print(bool([1,2,3])) # True\n",
    "print(bool(())) # False\n",
    "print(bool((1,2,3))) # True\n"
   ]
  },
  {
   "cell_type": "code",
   "execution_count": 5,
   "id": "7c6f3bfd",
   "metadata": {},
   "outputs": [],
   "source": [
    "a = True\n",
    "b = False"
   ]
  },
  {
   "cell_type": "code",
   "execution_count": 6,
   "id": "5f09b816",
   "metadata": {},
   "outputs": [
    {
     "data": {
      "text/plain": [
       "True"
      ]
     },
     "execution_count": 6,
     "metadata": {},
     "output_type": "execute_result"
    }
   ],
   "source": [
    "True and True # True"
   ]
  },
  {
   "cell_type": "code",
   "execution_count": 7,
   "id": "c55a2709",
   "metadata": {},
   "outputs": [
    {
     "data": {
      "text/plain": [
       "False"
      ]
     },
     "execution_count": 7,
     "metadata": {},
     "output_type": "execute_result"
    }
   ],
   "source": [
    "True and False # False"
   ]
  },
  {
   "cell_type": "code",
   "execution_count": 8,
   "id": "a691762c",
   "metadata": {},
   "outputs": [
    {
     "data": {
      "text/plain": [
       "True"
      ]
     },
     "execution_count": 8,
     "metadata": {},
     "output_type": "execute_result"
    }
   ],
   "source": [
    "True or True # True"
   ]
  },
  {
   "cell_type": "code",
   "execution_count": 9,
   "id": "be665e7e",
   "metadata": {},
   "outputs": [
    {
     "data": {
      "text/plain": [
       "False"
      ]
     },
     "execution_count": 9,
     "metadata": {},
     "output_type": "execute_result"
    }
   ],
   "source": [
    "# annotation\n",
    "not True # False"
   ]
  },
  {
   "cell_type": "code",
   "execution_count": 11,
   "id": "b279d4b7",
   "metadata": {},
   "outputs": [
    {
     "name": "stdout",
     "output_type": "stream",
     "text": [
      "20 You are not eligible to work\n"
     ]
    }
   ],
   "source": [
    "age = int(input(\"Enter your age: \"))\n",
    "if age<18 or age>=35: # matching any one of the conditions\n",
    "    print(age,\"You are eligible to work\")\n",
    "else:\n",
    "    print(age,\"You are not eligible to work\")"
   ]
  },
  {
   "cell_type": "code",
   "execution_count": 10,
   "id": "bd229d23",
   "metadata": {},
   "outputs": [
    {
     "name": "stdout",
     "output_type": "stream",
     "text": [
      "19 You are eligible to work\n"
     ]
    }
   ],
   "source": [
    "# checking eligibility to work\n",
    "# age should be greater than 18 and less than 60\n",
    "\n",
    "age = int(input(\"Enter your age: \"))\n",
    "if age>18 and age<60: # matching both the conditions\n",
    "    print(age,\"You are eligible to work\")\n",
    "else:\n",
    "    print(age,\"You are not eligible to work\")"
   ]
  },
  {
   "cell_type": "markdown",
   "id": "1d2df8a2",
   "metadata": {},
   "source": [
    "### Equality Operators\n",
    "\n",
    "Following operations are present in python for equlity check operation-\n",
    "\n",
    "|Operators|Meaning|\n",
    "|-|-|\n",
    "|**is**|***a is b*** returns true if variable/identifiers a and b *points* to the *same object*|\n",
    "|**is not**|***a is not b*** returns true if variable/identifiers a and b *points* to the *different object*|\n",
    "|**==**|***a == b*** returns true if variable/identifiers a and b has same value|\n",
    "|**!=**|***a != b*** returns true if variable/identifiers a and b has different value|"
   ]
  },
  {
   "cell_type": "code",
   "execution_count": 12,
   "id": "d89a64fc",
   "metadata": {},
   "outputs": [
    {
     "name": "stdout",
     "output_type": "stream",
     "text": [
      "True\n",
      "False\n",
      "True\n",
      "False\n"
     ]
    }
   ],
   "source": [
    "# is , is not , == , !=\n",
    "## Equality Operators\n",
    "a = 5\n",
    "b = 5\n",
    "print(a==b) # True\n",
    "print(a!=b) # False\n",
    "print(a is b) # True\n",
    "print(a is not b) # False"
   ]
  },
  {
   "cell_type": "code",
   "execution_count": 13,
   "id": "b8df5c00",
   "metadata": {},
   "outputs": [
    {
     "name": "stdout",
     "output_type": "stream",
     "text": [
      "You are not 18 years old\n"
     ]
    }
   ],
   "source": [
    "# is , is not , == , != - Equality Operators\n",
    "\n",
    "age = int(input(\"Enter your age: \"))\n",
    "if age==18:\n",
    "    print(\"You are 18 years old\")\n",
    "else:\n",
    "    print(\"Your age is greater than 18 years old\")"
   ]
  },
  {
   "cell_type": "code",
   "execution_count": 15,
   "id": "2588d094",
   "metadata": {},
   "outputs": [
    {
     "name": "stdout",
     "output_type": "stream",
     "text": [
      "False\n"
     ]
    }
   ],
   "source": [
    "a = \"Pratap\"\n",
    "b = \"Pratapj\"\n",
    "print(a==b) # False"
   ]
  },
  {
   "cell_type": "code",
   "execution_count": 14,
   "id": "48938f20",
   "metadata": {},
   "outputs": [
    {
     "name": "stdout",
     "output_type": "stream",
     "text": [
      "True\n",
      "False\n",
      "True\n",
      "False\n"
     ]
    }
   ],
   "source": [
    "a = \"Pratap\"\n",
    "b = \"Pratap\"\n",
    "print(a==b) # True\n",
    "print(a!=b) # False\n",
    "print(a is b) # True\n",
    "print(a is not b) # False"
   ]
  },
  {
   "cell_type": "code",
   "execution_count": 16,
   "id": "334cd67e",
   "metadata": {},
   "outputs": [
    {
     "data": {
      "text/plain": [
       "4379683952"
      ]
     },
     "execution_count": 16,
     "metadata": {},
     "output_type": "execute_result"
    }
   ],
   "source": [
    "a = \"Pratap\"\n",
    "id(a) # same memory location"
   ]
  },
  {
   "cell_type": "code",
   "execution_count": 17,
   "id": "a3df6c72",
   "metadata": {},
   "outputs": [
    {
     "name": "stdout",
     "output_type": "stream",
     "text": [
      "4379683952\n",
      "4379683952\n"
     ]
    }
   ],
   "source": [
    "# same memory location/object\n",
    "\n",
    "a = \"Pratap\"\n",
    "b = \"Pratap\"\n",
    "print(id(a))\n",
    "print(id(b))"
   ]
  },
  {
   "cell_type": "code",
   "execution_count": 19,
   "id": "babf27d0",
   "metadata": {},
   "outputs": [
    {
     "data": {
      "text/plain": [
       "True"
      ]
     },
     "execution_count": 19,
     "metadata": {},
     "output_type": "execute_result"
    }
   ],
   "source": [
    "a == b # It checks the value"
   ]
  },
  {
   "cell_type": "code",
   "execution_count": 20,
   "id": "b6694587",
   "metadata": {},
   "outputs": [
    {
     "data": {
      "text/plain": [
       "True"
      ]
     },
     "execution_count": 20,
     "metadata": {},
     "output_type": "execute_result"
    }
   ],
   "source": [
    "# a = \"Pratap\" and b = \"Pratap\" hence it is in same memory location\n",
    "# hence id(a) and id(b) will be same\n",
    "\n",
    "a is b # It checks the memory location"
   ]
  },
  {
   "cell_type": "code",
   "execution_count": 21,
   "id": "9b2f0c7e",
   "metadata": {},
   "outputs": [
    {
     "name": "stdout",
     "output_type": "stream",
     "text": [
      "4380783680\n",
      "4380782848\n"
     ]
    }
   ],
   "source": [
    "# collection item\n",
    "\n",
    "lst = [1,2,3]\n",
    "lst1 = [1,2,3]\n",
    "print(id(lst)) # different memory location\n",
    "print(id(lst1)) # different memory location\n"
   ]
  },
  {
   "cell_type": "code",
   "execution_count": 22,
   "id": "3317eed1",
   "metadata": {},
   "outputs": [
    {
     "data": {
      "text/plain": [
       "False"
      ]
     },
     "execution_count": 22,
     "metadata": {},
     "output_type": "execute_result"
    }
   ],
   "source": [
    "# It checks the memory location , lst location is different from lst1 location\n",
    "lst is lst1 # False"
   ]
  },
  {
   "cell_type": "code",
   "execution_count": 24,
   "id": "d98eb82e",
   "metadata": {},
   "outputs": [
    {
     "data": {
      "text/plain": [
       "True"
      ]
     },
     "execution_count": 24,
     "metadata": {},
     "output_type": "execute_result"
    }
   ],
   "source": [
    "# It checks the value , both the lists have same content\n",
    "lst == lst1 # True"
   ]
  },
  {
   "cell_type": "code",
   "execution_count": 25,
   "id": "d08eff85",
   "metadata": {},
   "outputs": [
    {
     "data": {
      "text/plain": [
       "True"
      ]
     },
     "execution_count": 25,
     "metadata": {},
     "output_type": "execute_result"
    }
   ],
   "source": [
    "# It checks condition , both lists are different\n",
    "lst is not lst1 # True"
   ]
  },
  {
   "cell_type": "code",
   "execution_count": 26,
   "id": "cb8f21ac",
   "metadata": {},
   "outputs": [
    {
     "name": "stderr",
     "output_type": "stream",
     "text": [
      "<>:1: SyntaxWarning: \"is\" with 'str' literal. Did you mean \"==\"?\n",
      "/var/folders/zw/nj3v56n1045bx7d8tm1w5zk80000gn/T/ipykernel_1676/763111293.py:1: SyntaxWarning: \"is\" with 'str' literal. Did you mean \"==\"?\n",
      "  \"Pratap\" is \"Pratap\" # True\n"
     ]
    },
    {
     "data": {
      "text/plain": [
       "True"
      ]
     },
     "execution_count": 26,
     "metadata": {},
     "output_type": "execute_result"
    }
   ],
   "source": [
    "\"Pratap\" is \"Pratap\" # True"
   ]
  },
  {
   "cell_type": "code",
   "execution_count": 29,
   "id": "197fbfc3",
   "metadata": {},
   "outputs": [
    {
     "data": {
      "text/plain": [
       "True"
      ]
     },
     "execution_count": 29,
     "metadata": {},
     "output_type": "execute_result"
    }
   ],
   "source": [
    "\"Pratap\" != \"Pratap1\" # True"
   ]
  },
  {
   "cell_type": "code",
   "execution_count": 30,
   "id": "30fa188e",
   "metadata": {},
   "outputs": [
    {
     "data": {
      "text/plain": [
       "True"
      ]
     },
     "execution_count": 30,
     "metadata": {},
     "output_type": "execute_result"
    }
   ],
   "source": [
    "\" This is same\" != \"No,This is not same\" # True"
   ]
  },
  {
   "cell_type": "markdown",
   "id": "d46fc9c9",
   "metadata": {},
   "source": [
    "## comparison operators\n",
    "|Operation|Meaning|\n",
    "|:-:|:-:|\n",
    "| **<** |less than|\n",
    "| **<=** |less than or equal to|\n",
    "| **>** |greater than|\n",
    "| **>=** |greater than or equal to|"
   ]
  },
  {
   "cell_type": "code",
   "execution_count": 32,
   "id": "3e719c2a",
   "metadata": {},
   "outputs": [
    {
     "name": "stdout",
     "output_type": "stream",
     "text": [
      "Pratap You are pass\n"
     ]
    }
   ],
   "source": [
    "# Comparison operators\n",
    "# < , > , <= , >=\n",
    "# < less than\n",
    "# > greater than\n",
    "# <= less than or equal to\n",
    "# >= greater than or equal to\n",
    "\n",
    "name = input(\"Enter your name: \")\n",
    "marks = float(input(\"Enter your marks: \"))\n",
    "\n",
    "if marks>35:\n",
    "    print(\"{} You are pass\".format(name))\n",
    "elif marks>=50 and marks<65:\n",
    "    print(\"{} You are in second division\".format(name))\n",
    "elif marks<35:\n",
    "    print(\"{} You are fail\".format(name))"
   ]
  },
  {
   "cell_type": "markdown",
   "id": "5815d5c7",
   "metadata": {},
   "source": [
    "## Arithmetic Operators\n",
    "|Operation|Meaning|\n",
    "|:-:|:-:|\n",
    "| **+** |addition|\n",
    "| **-** |subtraction|\n",
    "| **\\*** |multiplication|\n",
    "| **/** |true division|\n",
    "| **//** |integer division|\n",
    "| **%** |the modulo operator|"
   ]
  },
  {
   "cell_type": "code",
   "execution_count": 33,
   "id": "d52999a4",
   "metadata": {},
   "outputs": [
    {
     "data": {
      "text/plain": [
       "80"
      ]
     },
     "execution_count": 33,
     "metadata": {},
     "output_type": "execute_result"
    }
   ],
   "source": [
    "# Earthmatic Operators\n",
    "# + ,-,*,/,//,\n",
    "\n",
    "40 + 40"
   ]
  },
  {
   "cell_type": "code",
   "execution_count": 34,
   "id": "3212bf69",
   "metadata": {},
   "outputs": [
    {
     "data": {
      "text/plain": [
       "30"
      ]
     },
     "execution_count": 34,
     "metadata": {},
     "output_type": "execute_result"
    }
   ],
   "source": [
    "40-10"
   ]
  },
  {
   "cell_type": "code",
   "execution_count": 35,
   "id": "fe043ee7",
   "metadata": {},
   "outputs": [
    {
     "data": {
      "text/plain": [
       "8"
      ]
     },
     "execution_count": 35,
     "metadata": {},
     "output_type": "execute_result"
    }
   ],
   "source": [
    "4*2"
   ]
  },
  {
   "cell_type": "code",
   "execution_count": null,
   "id": "c0a621d2",
   "metadata": {},
   "outputs": [
    {
     "data": {
      "text/plain": [
       "50"
      ]
     },
     "execution_count": 36,
     "metadata": {},
     "output_type": "execute_result"
    }
   ],
   "source": [
    "100//2 # half of 100"
   ]
  },
  {
   "cell_type": "code",
   "execution_count": 38,
   "id": "d52a2582",
   "metadata": {},
   "outputs": [
    {
     "data": {
      "text/plain": [
       "1"
      ]
     },
     "execution_count": 38,
     "metadata": {},
     "output_type": "execute_result"
    }
   ],
   "source": [
    "3 % 2 # 3 "
   ]
  },
  {
   "cell_type": "code",
   "execution_count": null,
   "id": "7e13daa5",
   "metadata": {},
   "outputs": [],
   "source": []
  },
  {
   "cell_type": "code",
   "execution_count": null,
   "id": "cadeb558",
   "metadata": {},
   "outputs": [],
   "source": []
  }
 ],
 "metadata": {
  "kernelspec": {
   "display_name": ".venv (3.13.7)",
   "language": "python",
   "name": "python3"
  },
  "language_info": {
   "codemirror_mode": {
    "name": "ipython",
    "version": 3
   },
   "file_extension": ".py",
   "mimetype": "text/x-python",
   "name": "python",
   "nbconvert_exporter": "python",
   "pygments_lexer": "ipython3",
   "version": "3.13.7"
  }
 },
 "nbformat": 4,
 "nbformat_minor": 5
}
