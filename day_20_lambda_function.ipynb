{
 "cells": [
  {
   "cell_type": "markdown",
   "id": "df8e0963",
   "metadata": {},
   "source": [
    "## Lambda Function In Python"
   ]
  },
  {
   "cell_type": "markdown",
   "id": "5d35af53",
   "metadata": {},
   "source": [
    "In Python, a lambda function (also called an anonymous function) is a small, anonymous function that can be defined in a single line of code without a name. It is useful when we need a simple function that we don't want to define explicitly using the def keyword.\n",
    "The basic syntax for a lambda function in Python is:\n",
    "##### lambda arguments: expression\n",
    "\n",
    "Here, arguments refer to the input arguments for the function and expression is a single expression that gets evaluated and returned as the result of the function. The result of the expression is automatically returned by the lambda function, so there's no need to use the return statement."
   ]
  },
  {
   "cell_type": "code",
   "execution_count": 4,
   "id": "a3617dce",
   "metadata": {},
   "outputs": [
    {
     "data": {
      "text/plain": [
       "10"
      ]
     },
     "execution_count": 4,
     "metadata": {},
     "output_type": "execute_result"
    }
   ],
   "source": [
    "# lambda argument1,argument2 : operations\n",
    "f = lambda x,y : x+y\n",
    "f(5,5)"
   ]
  },
  {
   "cell_type": "code",
   "execution_count": null,
   "id": "467b7181",
   "metadata": {},
   "outputs": [
    {
     "data": {
      "text/plain": [
       "4"
      ]
     },
     "execution_count": 5,
     "metadata": {},
     "output_type": "execute_result"
    }
   ],
   "source": [
    "# Multiplication\n",
    "\n",
    "multiply = lambda x,y :x*y\n",
    "multiply(2,2)"
   ]
  },
  {
   "cell_type": "code",
   "execution_count": 6,
   "id": "33568c26",
   "metadata": {},
   "outputs": [
    {
     "data": {
      "text/plain": [
       "14"
      ]
     },
     "execution_count": 6,
     "metadata": {},
     "output_type": "execute_result"
    }
   ],
   "source": [
    "# return the lengh of a string\n",
    "string_length = lambda s:len(s)\n",
    "string_length(\"Python is easy\")"
   ]
  },
  {
   "cell_type": "code",
   "execution_count": null,
   "id": "ed6ab440",
   "metadata": {},
   "outputs": [
    {
     "name": "stdout",
     "output_type": "stream",
     "text": [
      "[15, 25, 35, 45, 55, 65]\n"
     ]
    }
   ],
   "source": [
    "## Convert a list of integers to their corresponding adding +5 values:\n",
    "numbers=[10,20,30,40,50,60]\n",
    "squares=list(map(lambda x:x+5,numbers))\n",
    "print(squares)"
   ]
  },
  {
   "cell_type": "code",
   "execution_count": 13,
   "id": "3fcb2eff",
   "metadata": {},
   "outputs": [
    {
     "name": "stdout",
     "output_type": "stream",
     "text": [
      "True\n",
      "False\n"
     ]
    }
   ],
   "source": [
    "# Checking even or odd numbers\n",
    "\n",
    "f = lambda x:x%2 ==0\n",
    "print(f(2)) # Even/True\n",
    "print(f(3)) # Odd/False"
   ]
  },
  {
   "cell_type": "code",
   "execution_count": null,
   "id": "43261386",
   "metadata": {},
   "outputs": [
    {
     "data": {
      "text/plain": [
       "[2, 4, 6]"
      ]
     },
     "execution_count": 18,
     "metadata": {},
     "output_type": "execute_result"
    }
   ],
   "source": [
    "## Filter out even numbers from a list:\n",
    "\n",
    "numbers=[1,2,3,4,5,6]\n",
    "list(filter(lambda x:x%2==0,numbers)) # 0 for Even"
   ]
  },
  {
   "cell_type": "code",
   "execution_count": null,
   "id": "29cf6205",
   "metadata": {},
   "outputs": [
    {
     "data": {
      "text/plain": [
       "[1, 3, 5]"
      ]
     },
     "execution_count": 16,
     "metadata": {},
     "output_type": "execute_result"
    }
   ],
   "source": [
    "list(filter(lambda x:x%2==1,numbers)) # 1 for Odd"
   ]
  },
  {
   "cell_type": "code",
   "execution_count": 19,
   "id": "692e983b",
   "metadata": {},
   "outputs": [
    {
     "data": {
      "text/plain": [
       "['date', 'apple', 'banana', 'cherry', 'elderberry']"
      ]
     },
     "execution_count": 19,
     "metadata": {},
     "output_type": "execute_result"
    }
   ],
   "source": [
    "## Sort a list of strings based on their alphabetical characters and  length:\n",
    "fruits = ['apple', 'banana', 'cherry', 'date', 'elderberry']\n",
    "\n",
    "sorted(fruits,key=lambda x:len(x))"
   ]
  },
  {
   "cell_type": "code",
   "execution_count": null,
   "id": "cb6d87af",
   "metadata": {},
   "outputs": [],
   "source": []
  },
  {
   "cell_type": "code",
   "execution_count": null,
   "id": "c8931389",
   "metadata": {},
   "outputs": [
    {
     "data": {
      "text/plain": [
       "[{'alphabet': 'C', 'number': 1},\n",
       " {'alphabet': 'D', 'number': 2},\n",
       " {'alphabet': 'A', 'number': 3},\n",
       " {'alphabet': 'B', 'number': 4}]"
      ]
     },
     "execution_count": 24,
     "metadata": {},
     "output_type": "execute_result"
    }
   ],
   "source": [
    "## complex examples\n",
    "## Sorting a list of dictionaries based on a specific key\n",
    "\n",
    "people = [\n",
    "    {'alphabet': 'A', 'number': 3},\n",
    "    {'alphabet': 'B', 'number': 4},\n",
    "    {'alphabet': 'C', 'number': 1},\n",
    "    {'alphabet': 'D', 'number': 2},\n",
    "]\n",
    "\n",
    "# sort based on the values like alphabet,number\n",
    "sorted(people,key=lambda x:(x['number']))"
   ]
  },
  {
   "cell_type": "code",
   "execution_count": 27,
   "id": "5cd04d17",
   "metadata": {},
   "outputs": [
    {
     "data": {
      "text/plain": [
       "[{'alphabet': 'C', 'number': 1},\n",
       " {'alphabet': 'D', 'number': 2},\n",
       " {'alphabet': 'A', 'number': 3},\n",
       " {'alphabet': 'B', 'number': 4}]"
      ]
     },
     "execution_count": 27,
     "metadata": {},
     "output_type": "execute_result"
    }
   ],
   "source": [
    "sorted(people,key=lambda x:(x['number'],x[\"alphabet\"]))"
   ]
  },
  {
   "cell_type": "code",
   "execution_count": null,
   "id": "420ae2b6",
   "metadata": {},
   "outputs": [
    {
     "data": {
      "text/plain": [
       "[{'name': 'Charlie', 'age': 22, 'occupation': 'Intern'},\n",
       " {'name': 'Alice', 'age': 25, 'occupation': 'Engineer'},\n",
       " {'name': 'Dave', 'age': 27, 'occupation': 'Designer'},\n",
       " {'name': 'Bob', 'age': 30, 'occupation': 'Manager'}]"
      ]
     },
     "execution_count": 22,
     "metadata": {},
     "output_type": "execute_result"
    }
   ],
   "source": [
    "## complex examples\n",
    "## Sorting a list of dictionaries based on a specific key\n",
    "\n",
    "people = [\n",
    "    {'name': 'Alice', 'age': 25, 'occupation': 'Engineer'},\n",
    "    {'name': 'Dave', 'age': 27, 'occupation': 'Designer'},\n",
    "    {'name': 'Bob', 'age': 30, 'occupation': 'Manager'},\n",
    "    {'name': 'Charlie', 'age': 22, 'occupation': 'Intern'},\n",
    "]\n",
    "\n",
    "# sort based on the values like name,age,occupation\n",
    "sorted(people,key=lambda x:(x['age']))"
   ]
  },
  {
   "cell_type": "code",
   "execution_count": 23,
   "id": "a09dd418",
   "metadata": {},
   "outputs": [
    {
     "data": {
      "text/plain": [
       "[{'name': 'Alice', 'age': 25, 'occupation': 'Engineer'},\n",
       " {'name': 'Bob', 'age': 30, 'occupation': 'Manager'},\n",
       " {'name': 'Charlie', 'age': 22, 'occupation': 'Intern'},\n",
       " {'name': 'Dave', 'age': 27, 'occupation': 'Designer'}]"
      ]
     },
     "execution_count": 23,
     "metadata": {},
     "output_type": "execute_result"
    }
   ],
   "source": [
    "sorted(people,key=lambda x:(x['name']))"
   ]
  },
  {
   "cell_type": "code",
   "execution_count": 28,
   "id": "6cc33324",
   "metadata": {},
   "outputs": [
    {
     "data": {
      "text/plain": [
       "'b'"
      ]
     },
     "execution_count": 28,
     "metadata": {},
     "output_type": "execute_result"
    }
   ],
   "source": [
    "## Finding the maximum value in a dictionary\n",
    "data = {'a': 10, 'b': 20, 'c': 5, 'd': 15}\n",
    "max(data,key=lambda x:data[x])"
   ]
  },
  {
   "cell_type": "code",
   "execution_count": 37,
   "id": "f885f2cc",
   "metadata": {},
   "outputs": [
    {
     "name": "stdout",
     "output_type": "stream",
     "text": [
      "a ['apple']\n",
      "b ['banana']\n",
      "c ['cherry']\n",
      "d ['date']\n",
      "e ['elderberry']\n",
      "f ['fig']\n",
      "m ['mango']\n"
     ]
    }
   ],
   "source": [
    "## Grouping a list of strings based on their first letter\n",
    "\n",
    "from itertools import groupby\n",
    "\n",
    "words = ['apple', 'date', 'cherry', 'mango','banana', 'elderberry', 'fig']\n",
    "\n",
    "groups = groupby(sorted(words), key=lambda x: x[0])\n",
    "\n",
    "for key, group in groups:\n",
    "    print(key, list(group))"
   ]
  },
  {
   "cell_type": "code",
   "execution_count": null,
   "id": "4c0b551e",
   "metadata": {},
   "outputs": [],
   "source": []
  },
  {
   "cell_type": "code",
   "execution_count": null,
   "id": "11480929",
   "metadata": {},
   "outputs": [],
   "source": []
  },
  {
   "cell_type": "code",
   "execution_count": null,
   "id": "d243645e",
   "metadata": {},
   "outputs": [],
   "source": []
  }
 ],
 "metadata": {
  "kernelspec": {
   "display_name": ".venv (3.13.7)",
   "language": "python",
   "name": "python3"
  },
  "language_info": {
   "codemirror_mode": {
    "name": "ipython",
    "version": 3
   },
   "file_extension": ".py",
   "mimetype": "text/x-python",
   "name": "python",
   "nbconvert_exporter": "python",
   "pygments_lexer": "ipython3",
   "version": "3.13.7"
  }
 },
 "nbformat": 4,
 "nbformat_minor": 5
}
